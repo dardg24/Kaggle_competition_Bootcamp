{
 "cells": [
  {
   "cell_type": "markdown",
   "metadata": {},
   "source": [
    "#### Aquí encontrarás todo lo que necesitas saber: https://www.kaggle.com/competitions/precio-portatiles-the-bridge/overview"
   ]
  },
  {
   "cell_type": "markdown",
   "metadata": {},
   "source": [
    "## Librerias"
   ]
  },
  {
   "cell_type": "code",
   "execution_count": 65,
   "metadata": {},
   "outputs": [],
   "source": [
    "import numpy as np\n",
    "import pandas as pd\n",
    "import seaborn as sns\n",
    "import matplotlib.pyplot as plt\n",
    "from sklearn.linear_model import LinearRegression\n",
    "from Funciones import *"
   ]
  },
  {
   "cell_type": "markdown",
   "metadata": {},
   "source": [
    "## Data"
   ]
  },
  {
   "cell_type": "markdown",
   "metadata": {},
   "source": [
    "- Variable a predecir: Price_euros\n",
    "\n",
    "- Variables predictoras: por defenir\n",
    "\n",
    "- Variables a desechar: laptop_ID, "
   ]
  },
  {
   "cell_type": "code",
   "execution_count": 2,
   "metadata": {},
   "outputs": [
    {
     "data": {
      "text/html": [
       "<div>\n",
       "<style scoped>\n",
       "    .dataframe tbody tr th:only-of-type {\n",
       "        vertical-align: middle;\n",
       "    }\n",
       "\n",
       "    .dataframe tbody tr th {\n",
       "        vertical-align: top;\n",
       "    }\n",
       "\n",
       "    .dataframe thead th {\n",
       "        text-align: right;\n",
       "    }\n",
       "</style>\n",
       "<table border=\"1\" class=\"dataframe\">\n",
       "  <thead>\n",
       "    <tr style=\"text-align: right;\">\n",
       "      <th></th>\n",
       "      <th>laptop_ID</th>\n",
       "      <th>Company</th>\n",
       "      <th>Product</th>\n",
       "      <th>TypeName</th>\n",
       "      <th>Inches</th>\n",
       "      <th>ScreenResolution</th>\n",
       "      <th>Cpu</th>\n",
       "      <th>Ram</th>\n",
       "      <th>Memory</th>\n",
       "      <th>Gpu</th>\n",
       "      <th>OpSys</th>\n",
       "      <th>Weight</th>\n",
       "    </tr>\n",
       "    <tr>\n",
       "      <th>id</th>\n",
       "      <th></th>\n",
       "      <th></th>\n",
       "      <th></th>\n",
       "      <th></th>\n",
       "      <th></th>\n",
       "      <th></th>\n",
       "      <th></th>\n",
       "      <th></th>\n",
       "      <th></th>\n",
       "      <th></th>\n",
       "      <th></th>\n",
       "      <th></th>\n",
       "    </tr>\n",
       "  </thead>\n",
       "  <tbody>\n",
       "    <tr>\n",
       "      <th>181</th>\n",
       "      <td>1098</td>\n",
       "      <td>HP</td>\n",
       "      <td>Spectre x360</td>\n",
       "      <td>Ultrabook</td>\n",
       "      <td>13.3</td>\n",
       "      <td>IPS Panel 4K Ultra HD 3840x2160</td>\n",
       "      <td>Intel Core i7 7500U 2.7GHz</td>\n",
       "      <td>16GB</td>\n",
       "      <td>512GB SSD</td>\n",
       "      <td>Intel HD Graphics 620</td>\n",
       "      <td>Windows 10</td>\n",
       "      <td>1.3kg</td>\n",
       "    </tr>\n",
       "    <tr>\n",
       "      <th>708</th>\n",
       "      <td>330</td>\n",
       "      <td>Acer</td>\n",
       "      <td>Aspire 5</td>\n",
       "      <td>Notebook</td>\n",
       "      <td>15.6</td>\n",
       "      <td>1366x768</td>\n",
       "      <td>AMD A12-Series 9720P 2.7GHz</td>\n",
       "      <td>8GB</td>\n",
       "      <td>256GB SSD</td>\n",
       "      <td>AMD Radeon RX 540</td>\n",
       "      <td>Windows 10</td>\n",
       "      <td>2.2kg</td>\n",
       "    </tr>\n",
       "    <tr>\n",
       "      <th>862</th>\n",
       "      <td>1260</td>\n",
       "      <td>Acer</td>\n",
       "      <td>Aspire ES1-572</td>\n",
       "      <td>Notebook</td>\n",
       "      <td>15.6</td>\n",
       "      <td>1366x768</td>\n",
       "      <td>Intel Core i3 6006U 2.0GHz</td>\n",
       "      <td>4GB</td>\n",
       "      <td>500GB HDD</td>\n",
       "      <td>Intel HD Graphics 520</td>\n",
       "      <td>Linux</td>\n",
       "      <td>2.4kg</td>\n",
       "    </tr>\n",
       "    <tr>\n",
       "      <th>1064</th>\n",
       "      <td>1137</td>\n",
       "      <td>HP</td>\n",
       "      <td>EliteBook 1040</td>\n",
       "      <td>Notebook</td>\n",
       "      <td>14.0</td>\n",
       "      <td>Full HD 1920x1080</td>\n",
       "      <td>Intel Core i5 6200U 2.3GHz</td>\n",
       "      <td>8GB</td>\n",
       "      <td>256GB SSD</td>\n",
       "      <td>Intel HD Graphics 520</td>\n",
       "      <td>Windows 7</td>\n",
       "      <td>1.43kg</td>\n",
       "    </tr>\n",
       "    <tr>\n",
       "      <th>702</th>\n",
       "      <td>1015</td>\n",
       "      <td>HP</td>\n",
       "      <td>ENVY -</td>\n",
       "      <td>Notebook</td>\n",
       "      <td>13.3</td>\n",
       "      <td>IPS Panel Full HD 1920x1080</td>\n",
       "      <td>Intel Core i5 7200U 2.5GHz</td>\n",
       "      <td>8GB</td>\n",
       "      <td>256GB SSD</td>\n",
       "      <td>Intel HD Graphics 620</td>\n",
       "      <td>Windows 10</td>\n",
       "      <td>1.34kg</td>\n",
       "    </tr>\n",
       "    <tr>\n",
       "      <th>...</th>\n",
       "      <td>...</td>\n",
       "      <td>...</td>\n",
       "      <td>...</td>\n",
       "      <td>...</td>\n",
       "      <td>...</td>\n",
       "      <td>...</td>\n",
       "      <td>...</td>\n",
       "      <td>...</td>\n",
       "      <td>...</td>\n",
       "      <td>...</td>\n",
       "      <td>...</td>\n",
       "      <td>...</td>\n",
       "    </tr>\n",
       "    <tr>\n",
       "      <th>1281</th>\n",
       "      <td>145</td>\n",
       "      <td>Lenovo</td>\n",
       "      <td>Legion Y520-15IKBN</td>\n",
       "      <td>Gaming</td>\n",
       "      <td>15.6</td>\n",
       "      <td>IPS Panel Full HD 1920x1080</td>\n",
       "      <td>Intel Core i7 7700HQ 2.8GHz</td>\n",
       "      <td>8GB</td>\n",
       "      <td>256GB SSD</td>\n",
       "      <td>Nvidia GeForce GTX 1050M</td>\n",
       "      <td>No OS</td>\n",
       "      <td>2.4kg</td>\n",
       "    </tr>\n",
       "    <tr>\n",
       "      <th>524</th>\n",
       "      <td>1195</td>\n",
       "      <td>Lenovo</td>\n",
       "      <td>IdeaPad Y700-15ISK</td>\n",
       "      <td>Gaming</td>\n",
       "      <td>15.6</td>\n",
       "      <td>IPS Panel Full HD 1920x1080</td>\n",
       "      <td>Intel Core i7 6700HQ 2.6GHz</td>\n",
       "      <td>16GB</td>\n",
       "      <td>512GB SSD</td>\n",
       "      <td>Nvidia GeForce GTX 960</td>\n",
       "      <td>Windows 10</td>\n",
       "      <td>3.31kg</td>\n",
       "    </tr>\n",
       "    <tr>\n",
       "      <th>1015</th>\n",
       "      <td>1070</td>\n",
       "      <td>HP</td>\n",
       "      <td>250 G5</td>\n",
       "      <td>Notebook</td>\n",
       "      <td>15.6</td>\n",
       "      <td>1366x768</td>\n",
       "      <td>Intel Core i5 7200U 2.5GHz</td>\n",
       "      <td>4GB</td>\n",
       "      <td>500GB HDD</td>\n",
       "      <td>Intel HD Graphics 620</td>\n",
       "      <td>No OS</td>\n",
       "      <td>1.96kg</td>\n",
       "    </tr>\n",
       "    <tr>\n",
       "      <th>1236</th>\n",
       "      <td>104</td>\n",
       "      <td>HP</td>\n",
       "      <td>15-bw000nv (E2-9000e/4GB/500GB/Radeon</td>\n",
       "      <td>Notebook</td>\n",
       "      <td>15.6</td>\n",
       "      <td>Full HD 1920x1080</td>\n",
       "      <td>AMD E-Series E2-9000e 1.5GHz</td>\n",
       "      <td>4GB</td>\n",
       "      <td>500GB HDD</td>\n",
       "      <td>AMD Radeon R2</td>\n",
       "      <td>Windows 10</td>\n",
       "      <td>2.1kg</td>\n",
       "    </tr>\n",
       "    <tr>\n",
       "      <th>1036</th>\n",
       "      <td>258</td>\n",
       "      <td>Lenovo</td>\n",
       "      <td>Yoga 920-13IKB</td>\n",
       "      <td>2 in 1 Convertible</td>\n",
       "      <td>13.9</td>\n",
       "      <td>IPS Panel Full HD / Touchscreen 1920x1080</td>\n",
       "      <td>Intel Core i7 8550U 1.8GHz</td>\n",
       "      <td>8GB</td>\n",
       "      <td>512GB SSD</td>\n",
       "      <td>Intel UHD Graphics 620</td>\n",
       "      <td>Windows 10</td>\n",
       "      <td>1.37kg</td>\n",
       "    </tr>\n",
       "  </tbody>\n",
       "</table>\n",
       "<p>391 rows × 12 columns</p>\n",
       "</div>"
      ],
      "text/plain": [
       "      laptop_ID Company                                Product  \\\n",
       "id                                                               \n",
       "181        1098      HP                           Spectre x360   \n",
       "708         330    Acer                               Aspire 5   \n",
       "862        1260    Acer                         Aspire ES1-572   \n",
       "1064       1137      HP                         EliteBook 1040   \n",
       "702        1015      HP                                 ENVY -   \n",
       "...         ...     ...                                    ...   \n",
       "1281        145  Lenovo                     Legion Y520-15IKBN   \n",
       "524        1195  Lenovo                     IdeaPad Y700-15ISK   \n",
       "1015       1070      HP                                 250 G5   \n",
       "1236        104      HP  15-bw000nv (E2-9000e/4GB/500GB/Radeon   \n",
       "1036        258  Lenovo                         Yoga 920-13IKB   \n",
       "\n",
       "                TypeName  Inches                           ScreenResolution  \\\n",
       "id                                                                            \n",
       "181            Ultrabook    13.3            IPS Panel 4K Ultra HD 3840x2160   \n",
       "708             Notebook    15.6                                   1366x768   \n",
       "862             Notebook    15.6                                   1366x768   \n",
       "1064            Notebook    14.0                          Full HD 1920x1080   \n",
       "702             Notebook    13.3                IPS Panel Full HD 1920x1080   \n",
       "...                  ...     ...                                        ...   \n",
       "1281              Gaming    15.6                IPS Panel Full HD 1920x1080   \n",
       "524               Gaming    15.6                IPS Panel Full HD 1920x1080   \n",
       "1015            Notebook    15.6                                   1366x768   \n",
       "1236            Notebook    15.6                          Full HD 1920x1080   \n",
       "1036  2 in 1 Convertible    13.9  IPS Panel Full HD / Touchscreen 1920x1080   \n",
       "\n",
       "                               Cpu   Ram     Memory                       Gpu  \\\n",
       "id                                                                              \n",
       "181     Intel Core i7 7500U 2.7GHz  16GB  512GB SSD     Intel HD Graphics 620   \n",
       "708    AMD A12-Series 9720P 2.7GHz   8GB  256GB SSD         AMD Radeon RX 540   \n",
       "862     Intel Core i3 6006U 2.0GHz   4GB  500GB HDD     Intel HD Graphics 520   \n",
       "1064    Intel Core i5 6200U 2.3GHz   8GB  256GB SSD     Intel HD Graphics 520   \n",
       "702     Intel Core i5 7200U 2.5GHz   8GB  256GB SSD     Intel HD Graphics 620   \n",
       "...                            ...   ...        ...                       ...   \n",
       "1281   Intel Core i7 7700HQ 2.8GHz   8GB  256GB SSD  Nvidia GeForce GTX 1050M   \n",
       "524    Intel Core i7 6700HQ 2.6GHz  16GB  512GB SSD    Nvidia GeForce GTX 960   \n",
       "1015    Intel Core i5 7200U 2.5GHz   4GB  500GB HDD     Intel HD Graphics 620   \n",
       "1236  AMD E-Series E2-9000e 1.5GHz   4GB  500GB HDD             AMD Radeon R2   \n",
       "1036    Intel Core i7 8550U 1.8GHz   8GB  512GB SSD    Intel UHD Graphics 620   \n",
       "\n",
       "           OpSys  Weight  \n",
       "id                        \n",
       "181   Windows 10   1.3kg  \n",
       "708   Windows 10   2.2kg  \n",
       "862        Linux   2.4kg  \n",
       "1064   Windows 7  1.43kg  \n",
       "702   Windows 10  1.34kg  \n",
       "...          ...     ...  \n",
       "1281       No OS   2.4kg  \n",
       "524   Windows 10  3.31kg  \n",
       "1015       No OS  1.96kg  \n",
       "1236  Windows 10   2.1kg  \n",
       "1036  Windows 10  1.37kg  \n",
       "\n",
       "[391 rows x 12 columns]"
      ]
     },
     "execution_count": 2,
     "metadata": {},
     "output_type": "execute_result"
    }
   ],
   "source": [
    "df_test = pd.read_csv('../data/test.csv', index_col=0)\n",
    "df_test"
   ]
  },
  {
   "cell_type": "code",
   "execution_count": 3,
   "metadata": {},
   "outputs": [
    {
     "data": {
      "text/html": [
       "<div>\n",
       "<style scoped>\n",
       "    .dataframe tbody tr th:only-of-type {\n",
       "        vertical-align: middle;\n",
       "    }\n",
       "\n",
       "    .dataframe tbody tr th {\n",
       "        vertical-align: top;\n",
       "    }\n",
       "\n",
       "    .dataframe thead th {\n",
       "        text-align: right;\n",
       "    }\n",
       "</style>\n",
       "<table border=\"1\" class=\"dataframe\">\n",
       "  <thead>\n",
       "    <tr style=\"text-align: right;\">\n",
       "      <th></th>\n",
       "      <th>laptop_ID</th>\n",
       "      <th>Company</th>\n",
       "      <th>Product</th>\n",
       "      <th>TypeName</th>\n",
       "      <th>Inches</th>\n",
       "      <th>ScreenResolution</th>\n",
       "      <th>Cpu</th>\n",
       "      <th>Ram</th>\n",
       "      <th>Memory</th>\n",
       "      <th>Gpu</th>\n",
       "      <th>OpSys</th>\n",
       "      <th>Weight</th>\n",
       "      <th>Price_euros</th>\n",
       "    </tr>\n",
       "    <tr>\n",
       "      <th>id</th>\n",
       "      <th></th>\n",
       "      <th></th>\n",
       "      <th></th>\n",
       "      <th></th>\n",
       "      <th></th>\n",
       "      <th></th>\n",
       "      <th></th>\n",
       "      <th></th>\n",
       "      <th></th>\n",
       "      <th></th>\n",
       "      <th></th>\n",
       "      <th></th>\n",
       "      <th></th>\n",
       "    </tr>\n",
       "  </thead>\n",
       "  <tbody>\n",
       "    <tr>\n",
       "      <th>268</th>\n",
       "      <td>1002</td>\n",
       "      <td>Dell</td>\n",
       "      <td>Inspiron 5567</td>\n",
       "      <td>Notebook</td>\n",
       "      <td>15.6</td>\n",
       "      <td>1366x768</td>\n",
       "      <td>Intel Core i7 7500U 2.7GHz</td>\n",
       "      <td>8GB</td>\n",
       "      <td>1TB HDD</td>\n",
       "      <td>AMD Radeon R7 M445</td>\n",
       "      <td>Windows 10</td>\n",
       "      <td>2.36kg</td>\n",
       "      <td>749.00</td>\n",
       "    </tr>\n",
       "    <tr>\n",
       "      <th>347</th>\n",
       "      <td>867</td>\n",
       "      <td>Asus</td>\n",
       "      <td>X541NA (N4200/4GB/1TB/W10)</td>\n",
       "      <td>Notebook</td>\n",
       "      <td>15.6</td>\n",
       "      <td>1366x768</td>\n",
       "      <td>Intel Pentium Quad Core N4200 1.1GHz</td>\n",
       "      <td>4GB</td>\n",
       "      <td>1TB HDD</td>\n",
       "      <td>Intel HD Graphics 505</td>\n",
       "      <td>Windows 10</td>\n",
       "      <td>2kg</td>\n",
       "      <td>449.00</td>\n",
       "    </tr>\n",
       "    <tr>\n",
       "      <th>353</th>\n",
       "      <td>966</td>\n",
       "      <td>Toshiba</td>\n",
       "      <td>Portege Z30-C-1CW</td>\n",
       "      <td>Notebook</td>\n",
       "      <td>13.3</td>\n",
       "      <td>Full HD 1920x1080</td>\n",
       "      <td>Intel Core i5 6200U 2.3GHz</td>\n",
       "      <td>8GB</td>\n",
       "      <td>256GB SSD</td>\n",
       "      <td>Intel HD Graphics 520</td>\n",
       "      <td>Windows 7</td>\n",
       "      <td>1.2kg</td>\n",
       "      <td>1460.00</td>\n",
       "    </tr>\n",
       "    <tr>\n",
       "      <th>578</th>\n",
       "      <td>767</td>\n",
       "      <td>Dell</td>\n",
       "      <td>Alienware 17</td>\n",
       "      <td>Gaming</td>\n",
       "      <td>15.6</td>\n",
       "      <td>IPS Panel 4K Ultra HD 3840x2160</td>\n",
       "      <td>Intel Core i7 7700HQ 2.8GHz</td>\n",
       "      <td>16GB</td>\n",
       "      <td>256GB SSD +  1TB HDD</td>\n",
       "      <td>Nvidia GeForce GTX 1070</td>\n",
       "      <td>Windows 10</td>\n",
       "      <td>4.42kg</td>\n",
       "      <td>2868.99</td>\n",
       "    </tr>\n",
       "    <tr>\n",
       "      <th>42</th>\n",
       "      <td>1241</td>\n",
       "      <td>Dell</td>\n",
       "      <td>Latitude E7270</td>\n",
       "      <td>Ultrabook</td>\n",
       "      <td>12.5</td>\n",
       "      <td>Full HD / Touchscreen 1920x1080</td>\n",
       "      <td>Intel Core i5 6300U 2.4GHz</td>\n",
       "      <td>8GB</td>\n",
       "      <td>256GB SSD</td>\n",
       "      <td>Intel HD Graphics 520</td>\n",
       "      <td>Windows 7</td>\n",
       "      <td>1.26kg</td>\n",
       "      <td>1713.37</td>\n",
       "    </tr>\n",
       "    <tr>\n",
       "      <th>...</th>\n",
       "      <td>...</td>\n",
       "      <td>...</td>\n",
       "      <td>...</td>\n",
       "      <td>...</td>\n",
       "      <td>...</td>\n",
       "      <td>...</td>\n",
       "      <td>...</td>\n",
       "      <td>...</td>\n",
       "      <td>...</td>\n",
       "      <td>...</td>\n",
       "      <td>...</td>\n",
       "      <td>...</td>\n",
       "      <td>...</td>\n",
       "    </tr>\n",
       "    <tr>\n",
       "      <th>89</th>\n",
       "      <td>973</td>\n",
       "      <td>Acer</td>\n",
       "      <td>Chromebook C738T-C2EJ</td>\n",
       "      <td>2 in 1 Convertible</td>\n",
       "      <td>11.6</td>\n",
       "      <td>IPS Panel Touchscreen 1366x768</td>\n",
       "      <td>Intel Celeron Dual Core N3060 1.6GHz</td>\n",
       "      <td>4GB</td>\n",
       "      <td>32GB Flash Storage</td>\n",
       "      <td>Intel HD Graphics 400</td>\n",
       "      <td>Chrome OS</td>\n",
       "      <td>1.25kg</td>\n",
       "      <td>389.00</td>\n",
       "    </tr>\n",
       "    <tr>\n",
       "      <th>716</th>\n",
       "      <td>1018</td>\n",
       "      <td>Toshiba</td>\n",
       "      <td>Portege Z30-C-16H</td>\n",
       "      <td>Notebook</td>\n",
       "      <td>13.3</td>\n",
       "      <td>Full HD 1920x1080</td>\n",
       "      <td>Intel Core i5 6200U 2.3GHz</td>\n",
       "      <td>4GB</td>\n",
       "      <td>128GB SSD</td>\n",
       "      <td>Intel HD Graphics 520</td>\n",
       "      <td>Windows 10</td>\n",
       "      <td>1.2kg</td>\n",
       "      <td>1195.00</td>\n",
       "    </tr>\n",
       "    <tr>\n",
       "      <th>517</th>\n",
       "      <td>1071</td>\n",
       "      <td>Acer</td>\n",
       "      <td>Aspire ES1-523</td>\n",
       "      <td>Notebook</td>\n",
       "      <td>15.6</td>\n",
       "      <td>1366x768</td>\n",
       "      <td>AMD A8-Series 7410 2.2GHz</td>\n",
       "      <td>8GB</td>\n",
       "      <td>1TB HDD</td>\n",
       "      <td>AMD Radeon R5</td>\n",
       "      <td>Windows 10</td>\n",
       "      <td>2.4kg</td>\n",
       "      <td>449.00</td>\n",
       "    </tr>\n",
       "    <tr>\n",
       "      <th>891</th>\n",
       "      <td>965</td>\n",
       "      <td>Dell</td>\n",
       "      <td>Latitude 7480</td>\n",
       "      <td>Ultrabook</td>\n",
       "      <td>14.0</td>\n",
       "      <td>Full HD 1920x1080</td>\n",
       "      <td>Intel Core i7 7600U 2.8GHz</td>\n",
       "      <td>8GB</td>\n",
       "      <td>256GB SSD</td>\n",
       "      <td>Intel HD Graphics 620</td>\n",
       "      <td>Windows 10</td>\n",
       "      <td>1.36kg</td>\n",
       "      <td>1775.00</td>\n",
       "    </tr>\n",
       "    <tr>\n",
       "      <th>1179</th>\n",
       "      <td>1313</td>\n",
       "      <td>Dell</td>\n",
       "      <td>Inspiron 3567</td>\n",
       "      <td>Notebook</td>\n",
       "      <td>15.6</td>\n",
       "      <td>1366x768</td>\n",
       "      <td>Intel Core i7 7500U 2.7GHz</td>\n",
       "      <td>8GB</td>\n",
       "      <td>1TB HDD</td>\n",
       "      <td>AMD Radeon R5 M430</td>\n",
       "      <td>Linux</td>\n",
       "      <td>2.3kg</td>\n",
       "      <td>805.99</td>\n",
       "    </tr>\n",
       "  </tbody>\n",
       "</table>\n",
       "<p>912 rows × 13 columns</p>\n",
       "</div>"
      ],
      "text/plain": [
       "      laptop_ID  Company                     Product            TypeName  \\\n",
       "id                                                                         \n",
       "268        1002     Dell               Inspiron 5567            Notebook   \n",
       "347         867     Asus  X541NA (N4200/4GB/1TB/W10)            Notebook   \n",
       "353         966  Toshiba           Portege Z30-C-1CW            Notebook   \n",
       "578         767     Dell                Alienware 17              Gaming   \n",
       "42         1241     Dell              Latitude E7270           Ultrabook   \n",
       "...         ...      ...                         ...                 ...   \n",
       "89          973     Acer       Chromebook C738T-C2EJ  2 in 1 Convertible   \n",
       "716        1018  Toshiba           Portege Z30-C-16H            Notebook   \n",
       "517        1071     Acer              Aspire ES1-523            Notebook   \n",
       "891         965     Dell               Latitude 7480           Ultrabook   \n",
       "1179       1313     Dell               Inspiron 3567            Notebook   \n",
       "\n",
       "      Inches                 ScreenResolution  \\\n",
       "id                                              \n",
       "268     15.6                         1366x768   \n",
       "347     15.6                         1366x768   \n",
       "353     13.3                Full HD 1920x1080   \n",
       "578     15.6  IPS Panel 4K Ultra HD 3840x2160   \n",
       "42      12.5  Full HD / Touchscreen 1920x1080   \n",
       "...      ...                              ...   \n",
       "89      11.6   IPS Panel Touchscreen 1366x768   \n",
       "716     13.3                Full HD 1920x1080   \n",
       "517     15.6                         1366x768   \n",
       "891     14.0                Full HD 1920x1080   \n",
       "1179    15.6                         1366x768   \n",
       "\n",
       "                                       Cpu   Ram                Memory  \\\n",
       "id                                                                       \n",
       "268             Intel Core i7 7500U 2.7GHz   8GB               1TB HDD   \n",
       "347   Intel Pentium Quad Core N4200 1.1GHz   4GB               1TB HDD   \n",
       "353             Intel Core i5 6200U 2.3GHz   8GB             256GB SSD   \n",
       "578            Intel Core i7 7700HQ 2.8GHz  16GB  256GB SSD +  1TB HDD   \n",
       "42              Intel Core i5 6300U 2.4GHz   8GB             256GB SSD   \n",
       "...                                    ...   ...                   ...   \n",
       "89    Intel Celeron Dual Core N3060 1.6GHz   4GB    32GB Flash Storage   \n",
       "716             Intel Core i5 6200U 2.3GHz   4GB             128GB SSD   \n",
       "517              AMD A8-Series 7410 2.2GHz   8GB               1TB HDD   \n",
       "891             Intel Core i7 7600U 2.8GHz   8GB             256GB SSD   \n",
       "1179            Intel Core i7 7500U 2.7GHz   8GB               1TB HDD   \n",
       "\n",
       "                          Gpu       OpSys  Weight  Price_euros  \n",
       "id                                                              \n",
       "268        AMD Radeon R7 M445  Windows 10  2.36kg       749.00  \n",
       "347     Intel HD Graphics 505  Windows 10     2kg       449.00  \n",
       "353     Intel HD Graphics 520   Windows 7   1.2kg      1460.00  \n",
       "578   Nvidia GeForce GTX 1070  Windows 10  4.42kg      2868.99  \n",
       "42      Intel HD Graphics 520   Windows 7  1.26kg      1713.37  \n",
       "...                       ...         ...     ...          ...  \n",
       "89      Intel HD Graphics 400   Chrome OS  1.25kg       389.00  \n",
       "716     Intel HD Graphics 520  Windows 10   1.2kg      1195.00  \n",
       "517             AMD Radeon R5  Windows 10   2.4kg       449.00  \n",
       "891     Intel HD Graphics 620  Windows 10  1.36kg      1775.00  \n",
       "1179       AMD Radeon R5 M430       Linux   2.3kg       805.99  \n",
       "\n",
       "[912 rows x 13 columns]"
      ]
     },
     "execution_count": 3,
     "metadata": {},
     "output_type": "execute_result"
    }
   ],
   "source": [
    "df_train = pd.read_csv('../data/train.csv', index_col=0)\n",
    "df_train"
   ]
  },
  {
   "cell_type": "code",
   "execution_count": 75,
   "metadata": {},
   "outputs": [
    {
     "data": {
      "text/html": [
       "<div>\n",
       "<style scoped>\n",
       "    .dataframe tbody tr th:only-of-type {\n",
       "        vertical-align: middle;\n",
       "    }\n",
       "\n",
       "    .dataframe tbody tr th {\n",
       "        vertical-align: top;\n",
       "    }\n",
       "\n",
       "    .dataframe thead th {\n",
       "        text-align: right;\n",
       "    }\n",
       "</style>\n",
       "<table border=\"1\" class=\"dataframe\">\n",
       "  <thead>\n",
       "    <tr style=\"text-align: right;\">\n",
       "      <th></th>\n",
       "      <th>id</th>\n",
       "      <th>Price_euros</th>\n",
       "    </tr>\n",
       "  </thead>\n",
       "  <tbody>\n",
       "    <tr>\n",
       "      <th>0</th>\n",
       "      <td>1014</td>\n",
       "      <td>752.0</td>\n",
       "    </tr>\n",
       "    <tr>\n",
       "      <th>1</th>\n",
       "      <td>845</td>\n",
       "      <td>499.0</td>\n",
       "    </tr>\n",
       "    <tr>\n",
       "      <th>2</th>\n",
       "      <td>1151</td>\n",
       "      <td>1747.0</td>\n",
       "    </tr>\n",
       "    <tr>\n",
       "      <th>3</th>\n",
       "      <td>1265</td>\n",
       "      <td>245.0</td>\n",
       "    </tr>\n",
       "    <tr>\n",
       "      <th>4</th>\n",
       "      <td>573</td>\n",
       "      <td>1179.0</td>\n",
       "    </tr>\n",
       "    <tr>\n",
       "      <th>...</th>\n",
       "      <td>...</td>\n",
       "      <td>...</td>\n",
       "    </tr>\n",
       "    <tr>\n",
       "      <th>386</th>\n",
       "      <td>1162</td>\n",
       "      <td>258.0</td>\n",
       "    </tr>\n",
       "    <tr>\n",
       "      <th>387</th>\n",
       "      <td>1286</td>\n",
       "      <td>1085.0</td>\n",
       "    </tr>\n",
       "    <tr>\n",
       "      <th>388</th>\n",
       "      <td>336</td>\n",
       "      <td>298.0</td>\n",
       "    </tr>\n",
       "    <tr>\n",
       "      <th>389</th>\n",
       "      <td>885</td>\n",
       "      <td>1099.0</td>\n",
       "    </tr>\n",
       "    <tr>\n",
       "      <th>390</th>\n",
       "      <td>1246</td>\n",
       "      <td>1339.0</td>\n",
       "    </tr>\n",
       "  </tbody>\n",
       "</table>\n",
       "<p>391 rows × 2 columns</p>\n",
       "</div>"
      ],
      "text/plain": [
       "       id  Price_euros\n",
       "0    1014        752.0\n",
       "1     845        499.0\n",
       "2    1151       1747.0\n",
       "3    1265        245.0\n",
       "4     573       1179.0\n",
       "..    ...          ...\n",
       "386  1162        258.0\n",
       "387  1286       1085.0\n",
       "388   336        298.0\n",
       "389   885       1099.0\n",
       "390  1246       1339.0\n",
       "\n",
       "[391 rows x 2 columns]"
      ]
     },
     "execution_count": 75,
     "metadata": {},
     "output_type": "execute_result"
    }
   ],
   "source": [
    "sample = pd.read_csv('../data/sample_submission.csv')\n",
    "sample"
   ]
  },
  {
   "cell_type": "markdown",
   "metadata": {},
   "source": [
    "## Data exploration"
   ]
  },
  {
   "cell_type": "code",
   "execution_count": null,
   "metadata": {},
   "outputs": [],
   "source": [
    "df_train['TypeName'].nunique()"
   ]
  },
  {
   "cell_type": "code",
   "execution_count": null,
   "metadata": {},
   "outputs": [],
   "source": [
    "df_train['TypeName'].value_counts()"
   ]
  },
  {
   "cell_type": "code",
   "execution_count": null,
   "metadata": {},
   "outputs": [],
   "source": [
    "df_train['OpSys'].value_counts()"
   ]
  },
  {
   "cell_type": "markdown",
   "metadata": {},
   "source": [
    "## Data processing"
   ]
  },
  {
   "cell_type": "markdown",
   "metadata": {},
   "source": [
    "## Test"
   ]
  },
  {
   "cell_type": "code",
   "execution_count": 4,
   "metadata": {},
   "outputs": [],
   "source": [
    "# Para este primer modelo voy a limpiar algunas columnas y cambiar su dtype\n",
    "\n",
    "#Primero ram\n",
    "df_test['Ram'] = df_test['Ram'].str.replace('GB', '').astype(int)\n",
    "\n",
    "# Ahora voy a transformar Weight\n",
    "df_test['Weight'] = df_test['Weight'].str.replace('kg', '').astype(float)\n",
    "\n",
    "# Voy a renombar  Weight y le pondré Weigh/kg para que sea más descriptiva y se entienda que los valores numericos hacen referencia a su peso en kg\n",
    "\n",
    "df_test = df_test.rename(columns={'Weight': 'Weight/kg'})"
   ]
  },
  {
   "cell_type": "code",
   "execution_count": 5,
   "metadata": {},
   "outputs": [
    {
     "name": "stdout",
     "output_type": "stream",
     "text": [
      "Index(['laptop_ID', 'Company', 'Product', 'TypeName', 'Inches',\n",
      "       'ScreenResolution', 'Cpu', 'Ram', 'Memory', 'Gpu', 'OpSys',\n",
      "       'Weight/kg'],\n",
      "      dtype='object')\n"
     ]
    }
   ],
   "source": [
    "print (df_test.columns)"
   ]
  },
  {
   "cell_type": "code",
   "execution_count": 6,
   "metadata": {},
   "outputs": [],
   "source": [
    "# Me haré un segundo DF donde desecho las primeras dos columnas porque no las necesito para la predicción\n",
    "\n",
    "df2_t = df_test.drop(['laptop_ID'], axis=1)\n",
    "\n",
    "# Voy a ver si puedo sacarle provecho al typeName\n",
    "# df2_t = df2_t.drop(['TypeName'], axis=1)"
   ]
  },
  {
   "cell_type": "code",
   "execution_count": 7,
   "metadata": {},
   "outputs": [
    {
     "name": "stdout",
     "output_type": "stream",
     "text": [
      "Index(['Company', 'Product', 'TypeName', 'Inches', 'ScreenResolution', 'Cpu',\n",
      "       'Ram', 'Memory', 'Gpu', 'OpSys', 'Weight/kg'],\n",
      "      dtype='object')\n"
     ]
    }
   ],
   "source": [
    "print (df2_t.columns)"
   ]
  },
  {
   "cell_type": "code",
   "execution_count": 9,
   "metadata": {},
   "outputs": [],
   "source": [
    "# Función que agrupa OS\n",
    "def group_os(name):\n",
    "    if 'Windows' in name:\n",
    "        return 'Windows'\n",
    "    elif re.search(r'mac', name, re.IGNORECASE):\n",
    "        return 'Mac'\n",
    "    elif name in ['Linux', 'Chrome OS', 'Android']:\n",
    "        return 'Other OS'\n",
    "    else:\n",
    "        return 'No OS/Other'"
   ]
  },
  {
   "cell_type": "code",
   "execution_count": 11,
   "metadata": {},
   "outputs": [
    {
     "data": {
      "text/plain": [
       "TypeName\n",
       "Notebook              205\n",
       "Gaming                 67\n",
       "Ultrabook              61\n",
       "2 in 1 Convertible     36\n",
       "Workstation            11\n",
       "Netbook                11\n",
       "Name: count, dtype: int64"
      ]
     },
     "execution_count": 11,
     "metadata": {},
     "output_type": "execute_result"
    }
   ],
   "source": [
    "df2_t['TypeName'].value_counts()"
   ]
  },
  {
   "cell_type": "code",
   "execution_count": 18,
   "metadata": {},
   "outputs": [],
   "source": [
    "# Agrupo varias variables\n",
    "df2_t['OpSys_Grouped'] = df2_t['OpSys'].apply(group_os)\n",
    "df2_t['Company_Grouped'] = df2_t['Company'].apply(agrupar_marcas)"
   ]
  },
  {
   "cell_type": "code",
   "execution_count": 20,
   "metadata": {},
   "outputs": [],
   "source": [
    "#  Aplicar One-Hot Encoding a la variable TypeName, al ser tan pocos no hizo falta agruparlos primero\n",
    "df_encoded_test = pd.get_dummies(df2_t, columns=['TypeName', \"OpSys_Grouped\", \"Company_Grouped\"])"
   ]
  },
  {
   "cell_type": "code",
   "execution_count": 21,
   "metadata": {},
   "outputs": [
    {
     "name": "stdout",
     "output_type": "stream",
     "text": [
      "Index(['Company', 'Product', 'Inches', 'ScreenResolution', 'Cpu', 'Ram',\n",
      "       'Memory', 'Gpu', 'OpSys', 'Weight/kg', 'TypeName_2 in 1 Convertible',\n",
      "       'TypeName_Gaming', 'TypeName_Netbook', 'TypeName_Notebook',\n",
      "       'TypeName_Ultrabook', 'TypeName_Workstation', 'OpSys_Grouped_Mac',\n",
      "       'OpSys_Grouped_No OS/Other', 'OpSys_Grouped_Other OS',\n",
      "       'OpSys_Grouped_Windows', 'Company_Grouped_Acer',\n",
      "       'Company_Grouped_Apple', 'Company_Grouped_Asus', 'Company_Grouped_Dell',\n",
      "       'Company_Grouped_HP', 'Company_Grouped_Lenovo', 'Company_Grouped_MSI',\n",
      "       'Company_Grouped_Otras', 'Company_Grouped_Toshiba'],\n",
      "      dtype='object')\n"
     ]
    }
   ],
   "source": [
    "print (df_encoded_test.columns)"
   ]
  },
  {
   "cell_type": "markdown",
   "metadata": {},
   "source": [
    "## Train"
   ]
  },
  {
   "cell_type": "code",
   "execution_count": 22,
   "metadata": {},
   "outputs": [],
   "source": [
    "# Para este primer modelo voy a limpiar algunas columnas y cambiar su dtype\n",
    "\n",
    "#Primero ram\n",
    "df_train['Ram'] = df_train['Ram'].str.replace('GB', '').astype(int)\n",
    "\n",
    "# Ahora voy a transformar Weight\n",
    "df_train['Weight'] = df_train['Weight'].str.replace('kg', '').astype(float)\n",
    "\n",
    "# Voy a renombar  Weight y le pondré Weigh/kg para que sea más descriptiva y se entienda que los valores numericos hacen referencia a su peso en kg\n",
    "\n",
    "df_train = df_train.rename(columns={'Weight': 'Weight/kg'})"
   ]
  },
  {
   "cell_type": "code",
   "execution_count": 23,
   "metadata": {},
   "outputs": [],
   "source": [
    "# Me haré un segundo DF donde desecho las primeras dos columnas porque no las necesito para la predicción\n",
    "\n",
    "df2 = df_train.drop(['laptop_ID'], axis=1)\n",
    "\n",
    "# Voy a ver si puedo sacarle provecho al typeName\n",
    "# df2 = df2.drop(['TypeName'], axis=1)"
   ]
  },
  {
   "cell_type": "code",
   "execution_count": 24,
   "metadata": {},
   "outputs": [],
   "source": [
    "# Agrupo varias variables\n",
    "df2['OpSys_Grouped'] = df2['OpSys'].apply(group_os)\n",
    "df2['Company_Grouped'] = df2['Company'].apply(agrupar_marcas)"
   ]
  },
  {
   "cell_type": "code",
   "execution_count": 25,
   "metadata": {},
   "outputs": [],
   "source": [
    "#  Aplicar One-Hot Encoding a la variable TypeName, al ser tan pocos no hizo falta agruparlos primero\n",
    "df_encoded_train = pd.get_dummies(df2, columns=['TypeName', \"OpSys_Grouped\", \"Company_Grouped\"])"
   ]
  },
  {
   "cell_type": "code",
   "execution_count": 36,
   "metadata": {},
   "outputs": [
    {
     "data": {
      "text/plain": [
       "TypeName\n",
       "Notebook              522\n",
       "Gaming                138\n",
       "Ultrabook             135\n",
       "2 in 1 Convertible     85\n",
       "Workstation            18\n",
       "Netbook                14\n",
       "Name: count, dtype: int64"
      ]
     },
     "execution_count": 36,
     "metadata": {},
     "output_type": "execute_result"
    }
   ],
   "source": [
    "df2['TypeName'].value_counts()"
   ]
  },
  {
   "cell_type": "code",
   "execution_count": 26,
   "metadata": {},
   "outputs": [
    {
     "name": "stdout",
     "output_type": "stream",
     "text": [
      "Index(['Company', 'Product', 'Inches', 'ScreenResolution', 'Cpu', 'Ram',\n",
      "       'Memory', 'Gpu', 'OpSys', 'Weight/kg', 'Price_euros',\n",
      "       'TypeName_2 in 1 Convertible', 'TypeName_Gaming', 'TypeName_Netbook',\n",
      "       'TypeName_Notebook', 'TypeName_Ultrabook', 'TypeName_Workstation',\n",
      "       'OpSys_Grouped_Mac', 'OpSys_Grouped_No OS/Other',\n",
      "       'OpSys_Grouped_Other OS', 'OpSys_Grouped_Windows',\n",
      "       'Company_Grouped_Acer', 'Company_Grouped_Apple', 'Company_Grouped_Asus',\n",
      "       'Company_Grouped_Dell', 'Company_Grouped_HP', 'Company_Grouped_Lenovo',\n",
      "       'Company_Grouped_MSI', 'Company_Grouped_Otras',\n",
      "       'Company_Grouped_Toshiba'],\n",
      "      dtype='object')\n"
     ]
    }
   ],
   "source": [
    "print (df_encoded_train.columns)"
   ]
  },
  {
   "cell_type": "code",
   "execution_count": 40,
   "metadata": {},
   "outputs": [],
   "source": [
    "m_corr = df_encoded_train[['Ram', 'Weight/kg', 'TypeName_Gaming', 'TypeName_Netbook', 'TypeName_Notebook', 'TypeName_Ultrabook', 'TypeName_Workstation', 'TypeName_2 in 1 Convertible','Price_euros']].corr()"
   ]
  },
  {
   "cell_type": "code",
   "execution_count": 41,
   "metadata": {},
   "outputs": [
    {
     "data": {
      "image/png": "[encoded data removed]",
      "text/plain": [
       "<Figure size 1500x1500 with 2 Axes>"
      ]
     },
     "metadata": {},
     "output_type": "display_data"
    }
   ],
   "source": [
    "plt.figure(figsize=(15,15))\n",
    "sns.heatmap(m_corr, annot=True, fmt=\".2f\", annot_kws={'size': 10}, cmap='coolwarm');"
   ]
  },
  {
   "cell_type": "code",
   "execution_count": null,
   "metadata": {},
   "outputs": [],
   "source": [
    "\"\"\"Corregí un fallo que tenía al agrupar los sistemas operativos, algunos de Mac los estaba enviando a OS \"\"\"\n",
    "# df2[df2['OpSys_Grouped'] == 'Mac']\n",
    "# # df2[df2['Company']== 'Apple']"
   ]
  },
  {
   "cell_type": "code",
   "execution_count": null,
   "metadata": {},
   "outputs": [],
   "source": [
    "# sns.heatmap(df_encoded[['TypeName_2 in 1 Convertible', 'TypeName_Gaming', 'TypeName_Netbook', 'TypeName_Notebook', 'TypeName_Ultrabook', 'TypeName_Workstation', 'Price_euros']].corr(), annot= True)"
   ]
  },
  {
   "cell_type": "code",
   "execution_count": null,
   "metadata": {},
   "outputs": [],
   "source": [
    "# sns.heatmap(df_encoded.corr(numeric_only=True), annot= True, cmap='coolwarm')"
   ]
  },
  {
   "cell_type": "code",
   "execution_count": null,
   "metadata": {},
   "outputs": [],
   "source": [
    "# df_encoded['Gpu'].unique()"
   ]
  },
  {
   "cell_type": "markdown",
   "metadata": {},
   "source": [
    "## Pasos que si o si debéis realizar para poder participar en la competición:"
   ]
  },
  {
   "cell_type": "markdown",
   "metadata": {},
   "source": [
    "### 1. Definir X e y"
   ]
  },
  {
   "cell_type": "code",
   "execution_count": 42,
   "metadata": {},
   "outputs": [],
   "source": [
    "from sklearn.linear_model import LinearRegression\n",
    "from sklearn.metrics import mean_absolute_error"
   ]
  },
  {
   "cell_type": "code",
   "execution_count": 47,
   "metadata": {},
   "outputs": [
    {
     "data": {
      "text/plain": [
       "Index(['Company', 'Product', 'Inches', 'ScreenResolution', 'Cpu', 'Ram',\n",
       "       'Memory', 'Gpu', 'OpSys', 'Weight/kg', 'Price_euros',\n",
       "       'TypeName_2 in 1 Convertible', 'TypeName_Gaming', 'TypeName_Netbook',\n",
       "       'TypeName_Notebook', 'TypeName_Ultrabook', 'TypeName_Workstation',\n",
       "       'OpSys_Grouped_Mac', 'OpSys_Grouped_No OS/Other',\n",
       "       'OpSys_Grouped_Other OS', 'OpSys_Grouped_Windows',\n",
       "       'Company_Grouped_Acer', 'Company_Grouped_Apple', 'Company_Grouped_Asus',\n",
       "       'Company_Grouped_Dell', 'Company_Grouped_HP', 'Company_Grouped_Lenovo',\n",
       "       'Company_Grouped_MSI', 'Company_Grouped_Otras',\n",
       "       'Company_Grouped_Toshiba'],\n",
       "      dtype='object')"
      ]
     },
     "execution_count": 47,
     "metadata": {},
     "output_type": "execute_result"
    }
   ],
   "source": [
    "df_encoded_train.columns"
   ]
  },
  {
   "cell_type": "code",
   "execution_count": 49,
   "metadata": {},
   "outputs": [],
   "source": [
    "X = df_encoded_train.drop(['Price_euros'], axis=1)\n",
    "y = df_encoded_train['Price_euros']"
   ]
  },
  {
   "cell_type": "markdown",
   "metadata": {},
   "source": [
    "### 2. Dividir X_train, X_test, y_train, y_test"
   ]
  },
  {
   "cell_type": "code",
   "execution_count": 54,
   "metadata": {},
   "outputs": [],
   "source": [
    "X_train = df_encoded_train[['Ram', 'Weight/kg', 'TypeName_Gaming', 'TypeName_Netbook', 'TypeName_Notebook', 'TypeName_Ultrabook', 'TypeName_Workstation', 'TypeName_2 in 1 Convertible']]\n",
    "X_test = df_encoded_test[['Ram', 'Weight/kg', 'TypeName_Gaming', 'TypeName_Netbook', 'TypeName_Notebook', 'TypeName_Ultrabook', 'TypeName_Workstation', 'TypeName_2 in 1 Convertible']]\n",
    "y_train = y\n",
    "y_test = sample['Price_euros']"
   ]
  },
  {
   "cell_type": "markdown",
   "metadata": {},
   "source": [
    "### 3. Crear y entrenar el modelo\n"
   ]
  },
  {
   "cell_type": "code",
   "execution_count": 55,
   "metadata": {},
   "outputs": [
    {
     "data": {
      "text/html": [
       "<style>#sk-container-id-1 {color: black;}#sk-container-id-1 pre{padding: 0;}#sk-container-id-1 div.sk-toggleable {background-color: white;}#sk-container-id-1 label.sk-toggleable__label {cursor: pointer;display: block;width: 100%;margin-bottom: 0;padding: 0.3em;box-sizing: border-box;text-align: center;}#sk-container-id-1 label.sk-toggleable__label-arrow:before {content: \"▸\";float: left;margin-right: 0.25em;color: #696969;}#sk-container-id-1 label.sk-toggleable__label-arrow:hover:before {color: black;}#sk-container-id-1 div.sk-estimator:hover label.sk-toggleable__label-arrow:before {color: black;}#sk-container-id-1 div.sk-toggleable__content {max-height: 0;max-width: 0;overflow: hidden;text-align: left;background-color: #f0f8ff;}#sk-container-id-1 div.sk-toggleable__content pre {margin: 0.2em;color: black;border-radius: 0.25em;background-color: #f0f8ff;}#sk-container-id-1 input.sk-toggleable__control:checked~div.sk-toggleable__content {max-height: 200px;max-width: 100%;overflow: auto;}#sk-container-id-1 input.sk-toggleable__control:checked~label.sk-toggleable__label-arrow:before {content: \"▾\";}#sk-container-id-1 div.sk-estimator input.sk-toggleable__control:checked~label.sk-toggleable__label {background-color: #d4ebff;}#sk-container-id-1 div.sk-label input.sk-toggleable__control:checked~label.sk-toggleable__label {background-color: #d4ebff;}#sk-container-id-1 input.sk-hidden--visually {border: 0;clip: rect(1px 1px 1px 1px);clip: rect(1px, 1px, 1px, 1px);height: 1px;margin: -1px;overflow: hidden;padding: 0;position: absolute;width: 1px;}#sk-container-id-1 div.sk-estimator {font-family: monospace;background-color: #f0f8ff;border: 1px dotted black;border-radius: 0.25em;box-sizing: border-box;margin-bottom: 0.5em;}#sk-container-id-1 div.sk-estimator:hover {background-color: #d4ebff;}#sk-container-id-1 div.sk-parallel-item::after {content: \"\";width: 100%;border-bottom: 1px solid gray;flex-grow: 1;}#sk-container-id-1 div.sk-label:hover label.sk-toggleable__label {background-color: #d4ebff;}#sk-container-id-1 div.sk-serial::before {content: \"\";position: absolute;border-left: 1px solid gray;box-sizing: border-box;top: 0;bottom: 0;left: 50%;z-index: 0;}#sk-container-id-1 div.sk-serial {display: flex;flex-direction: column;align-items: center;background-color: white;padding-right: 0.2em;padding-left: 0.2em;position: relative;}#sk-container-id-1 div.sk-item {position: relative;z-index: 1;}#sk-container-id-1 div.sk-parallel {display: flex;align-items: stretch;justify-content: center;background-color: white;position: relative;}#sk-container-id-1 div.sk-item::before, #sk-container-id-1 div.sk-parallel-item::before {content: \"\";position: absolute;border-left: 1px solid gray;box-sizing: border-box;top: 0;bottom: 0;left: 50%;z-index: -1;}#sk-container-id-1 div.sk-parallel-item {display: flex;flex-direction: column;z-index: 1;position: relative;background-color: white;}#sk-container-id-1 div.sk-parallel-item:first-child::after {align-self: flex-end;width: 50%;}#sk-container-id-1 div.sk-parallel-item:last-child::after {align-self: flex-start;width: 50%;}#sk-container-id-1 div.sk-parallel-item:only-child::after {width: 0;}#sk-container-id-1 div.sk-dashed-wrapped {border: 1px dashed gray;margin: 0 0.4em 0.5em 0.4em;box-sizing: border-box;padding-bottom: 0.4em;background-color: white;}#sk-container-id-1 div.sk-label label {font-family: monospace;font-weight: bold;display: inline-block;line-height: 1.2em;}#sk-container-id-1 div.sk-label-container {text-align: center;}#sk-container-id-1 div.sk-container {/* jupyter's `normalize.less` sets `[hidden] { display: none; }` but bootstrap.min.css set `[hidden] { display: none !important; }` so we also need the `!important` here to be able to override the default hidden behavior on the sphinx rendered scikit-learn.org. See: https://github.com/scikit-learn/scikit-learn/issues/21755 */display: inline-block !important;position: relative;}#sk-container-id-1 div.sk-text-repr-fallback {display: none;}</style><div id=\"sk-container-id-1\" class=\"sk-top-container\"><div class=\"sk-text-repr-fallback\"><pre>LinearRegression()</pre><b>In a Jupyter environment, please rerun this cell to show the HTML representation or trust the notebook. <br />On GitHub, the HTML representation is unable to render, please try loading this page with nbviewer.org.</b></div><div class=\"sk-container\" hidden><div class=\"sk-item\"><div class=\"sk-estimator sk-toggleable\"><input class=\"sk-toggleable__control sk-hidden--visually\" id=\"sk-estimator-id-1\" type=\"checkbox\" checked><label for=\"sk-estimator-id-1\" class=\"sk-toggleable__label sk-toggleable__label-arrow\">LinearRegression</label><div class=\"sk-toggleable__content\"><pre>LinearRegression()</pre></div></div></div></div></div>"
      ],
      "text/plain": [
       "LinearRegression()"
      ]
     },
     "execution_count": 55,
     "metadata": {},
     "output_type": "execute_result"
    }
   ],
   "source": [
    "#creating LinearRegression Object\n",
    "lm = LinearRegression()\n",
    "#Training the Data Model\n",
    "lm.fit(X_train, y_train)"
   ]
  },
  {
   "cell_type": "code",
   "execution_count": 56,
   "metadata": {},
   "outputs": [],
   "source": [
    "# Hago mis predicciones\n",
    "predictions = lm.predict(X_test)"
   ]
  },
  {
   "cell_type": "code",
   "execution_count": 80,
   "metadata": {},
   "outputs": [
    {
     "data": {
      "text/plain": [
       "array([2182.20554035,  915.06447679,  538.67767218,  920.99904655,\n",
       "        921.69269756, 1963.54948019, 1953.76530149,  540.98984222,\n",
       "       6439.34680597, 1218.32895976, 1432.36067985,  542.83957825,\n",
       "        546.77026731,  544.84345895,  540.21911887, 1220.79527446,\n",
       "        844.79383153, 1217.86652575, 1218.71432143, 1433.5938372 ,\n",
       "       1565.12399569,  923.07999959, 1664.75519263, 1433.20847553,\n",
       "       1946.44342971,  733.8075846 ,  916.68299582,  542.83957825,\n",
       "       1195.98199053,  540.37326354,  921.23026356,  920.69075722,\n",
       "       1954.92138651,  915.06447679,  540.21911887, 1945.67270636,\n",
       "        915.06447679,  915.83520014, 3434.10986653,  915.06447679,\n",
       "        540.98984222,  918.91809352, 1431.3587395 , 1950.06582943,\n",
       "       1427.89048444, 1434.44163288,  540.60448055, 3431.95184116,\n",
       "        540.21911887, 1432.20653518,  914.29375345,  912.75230676,\n",
       "        917.37664683,  540.21911887, 1216.78751306,  545.69125463,\n",
       "        546.0766163 ,  358.19150334,  921.5385529 , 1202.14777729,\n",
       "       1428.35291845, 1058.03941381,  728.41252118, 1218.48310442,\n",
       "        920.99904655, 1213.85876435,  540.98984222, 1934.11185618,\n",
       "        538.98596152, 1946.44342971,  723.01745776, 3029.22136623,\n",
       "       2288.70225821, 1215.86264505,  923.92779527,  917.37664683,\n",
       "        915.2956938 ,  539.8337572 ,  916.29763415,  910.44013672,\n",
       "        563.75772725, 2281.68867576, 1193.28445882,  542.14592724,\n",
       "       1194.44054384, 1432.90018619, 1947.21415306,  915.06447679,\n",
       "       3035.54129766,  917.29957449,  544.45809728,  538.67767218,\n",
       "       1202.14777729, 1202.14777729, 1969.02161594,  535.5947788 ,\n",
       "       1434.98113922, 1202.14777729,  919.38052753, 1289.52447304,\n",
       "        911.98158341,  546.0766163 , 1431.97531818, 1056.12801991,\n",
       "        912.75230676, 1433.28554786,  916.45177881,  910.44013672,\n",
       "        919.30345519, 1666.68200099, 1058.05482827, 1217.32701941,\n",
       "        540.21911887,  914.83325979,  917.29957449, 1946.44342971,\n",
       "        915.06447679,  914.21668111,  917.29957449, 1965.78457789,\n",
       "        538.67767218, 1201.83948796,  911.98158341, 1950.29704644,\n",
       "        544.45809728, 1432.51482452, 1939.66106427, 1430.66508849,\n",
       "       1950.06582943, 1431.74410117,  916.60592348,  917.37664683,\n",
       "        540.29619121, 1432.05239051,  541.45227623,  539.8337572 ,\n",
       "        564.91381227, 1935.65330287, 1198.29416057,  914.29375345,\n",
       "        544.0727356 , 2182.66797436, 2185.2113614 ,  917.83908084,\n",
       "       1935.19086886,  917.83908084,  911.98158341,  542.45421658,\n",
       "        939.29673618, 3038.77833572,  544.53516961,  727.71887017,\n",
       "       1432.59189685,  540.98984222, 1217.0958024 ,  917.37664683,\n",
       "       2178.12070662,  561.90799122,  542.83957825, 1199.13424901,\n",
       "       2285.92765416,  915.06447679, 1193.59274816, 2290.4749219 ,\n",
       "       1946.44342971, 1662.44302259, 1430.66508849, 2182.59090203,\n",
       "       1433.28554786,  539.8337572 , 1665.83420531, 2183.51577004,\n",
       "       2183.74698704,  542.53128891, 3038.85540805, 1434.05627121,\n",
       "       1290.29519638,  921.23026356, 3440.58394263, 1432.82311386,\n",
       "        540.21911887, 2183.90113171,  726.10035114,  541.52934856,\n",
       "        540.21911887, 1219.71626178,  922.77171025,  915.83520014,\n",
       "        910.44013672, 2183.13040837, 1947.9848764 ,  915.06447679,\n",
       "       1200.6063306 ,  897.95441852,  540.98984222, 1433.28554786,\n",
       "       1806.58945909,  914.06253644, 1218.32895976, 1949.52632309,\n",
       "        723.01745776, 1290.98884739,  915.37276613, 1968.4821096 ,\n",
       "       1199.83560726,  352.79643992,  724.17354278,  540.21911887,\n",
       "        914.83325979, 2183.74698704, 1199.83560726,  540.37326354,\n",
       "        920.61368488,  916.60592348,  540.98984222, 1433.13140319,\n",
       "        540.21911887, 1660.13085255, 1432.12946284,  915.06447679,\n",
       "       1954.92138651, 1429.43193113, 1943.745898  , 1666.14249465,\n",
       "        911.2879324 , 2291.24564525, 2182.9762637 ,  541.37520389,\n",
       "        542.91665058,  910.44013672,  542.14592724,  920.45954021,\n",
       "       1939.66106427, 1199.83560726,  911.44207707,  915.83520014,\n",
       "       1219.25382777,  912.75230676,  542.83957825,  728.87495519,\n",
       "       1944.05418734,  541.37520389,  555.66513212, 1198.29416057,\n",
       "       1968.01967559, 1433.28554786,  916.60592348, 1933.34113283,\n",
       "        539.8337572 , 1663.21374594, 1666.83614566,  920.53661255,\n",
       "       1944.05418734,  919.38052753, 1431.51288417,  916.29763415,\n",
       "        535.5947788 , 1586.39195223, 1664.75519263,  917.37664683,\n",
       "       1431.5899565 ,  841.24850414,  912.75230676,  540.37326354,\n",
       "       1429.43193113, 1199.83560726, 1961.23731015, 1219.33090011,\n",
       "       1217.24994707, 1432.36067985,  914.29375345,  540.21911887,\n",
       "        917.83908084, 1198.29416057, 1289.90983471,  564.45137826,\n",
       "       2288.70225821,  531.74116207, 1954.92138651,  541.22105922,\n",
       "       2701.22091963,  916.45177881,  732.42028258,  537.13622549,\n",
       "        358.65393734,  910.44013672, 1433.28554786,  915.06447679,\n",
       "       1052.96805419,  919.68881687,  540.21911887, 1591.78701565,\n",
       "       1660.13085255, 2183.28455304, 2182.9762637 ,  914.29375345,\n",
       "        913.83131944,  544.0727356 ,  918.91809352,  547.15562899,\n",
       "        913.5230301 , 1216.32507906,  915.37276613, 1957.61491042,\n",
       "        540.98984222, 2290.0124879 , 1670.92097939, 1564.81570635,\n",
       "        538.29231051,  546.0766163 ,  542.14592724, 2180.66409366,\n",
       "        541.22105922,  564.91381227,  844.79383153,  539.37132319,\n",
       "       2177.73534495, 2182.9762637 , 1435.05821156,  915.83520014,\n",
       "       1433.97919887, 1949.52632309, 1935.65330287, 2181.74310634,\n",
       "        840.55485312, 1434.05627121, 1688.67916268,  546.0766163 ,\n",
       "        540.21911887,  352.79643992,  917.37664683,  540.98984222,\n",
       "        919.68881687,  546.38490564,  913.83131944, 1212.31731766,\n",
       "       2182.9762637 , 1202.14777729,  563.37236558, 1216.78751306,\n",
       "        914.13960878, 1934.72843486,  360.88903505, 1191.97422913,\n",
       "        916.60592348,  845.56455487,  539.98790187, 1573.75609716,\n",
       "       1662.44302259, 1195.98199053,  919.45759986,  920.53661255,\n",
       "        539.8337572 , 1219.40797244,  916.91421282,  540.98984222,\n",
       "       1200.6063306 , 1944.13125967,  541.76056557, 1429.43193113,\n",
       "        378.26185666, 1935.19086886,  538.67767218,  916.99128516,\n",
       "       1949.06388908,  916.22056181,  540.21911887, 1962.85582917,\n",
       "       1199.83560726,  540.21911887,  535.5947788 ,  917.60786383,\n",
       "       1200.6063306 , 1212.38668276,  546.15368864, 1202.14777729,\n",
       "       1430.20265448,  540.98984222,  542.30007191, 1432.12946284,\n",
       "       1202.14777729,  540.98984222, 1199.83560726,  564.68259527,\n",
       "       2184.13234872,  540.98984222, 1200.6063306 , 1943.28346399,\n",
       "        542.0688549 ,  540.98984222, 1218.71432143])"
      ]
     },
     "execution_count": 80,
     "metadata": {},
     "output_type": "execute_result"
    }
   ],
   "source": [
    "predictions"
   ]
  },
  {
   "cell_type": "code",
   "execution_count": 57,
   "metadata": {},
   "outputs": [
    {
     "data": {
      "text/plain": [
       "-0.8779308582038012"
      ]
     },
     "execution_count": 57,
     "metadata": {},
     "output_type": "execute_result"
    }
   ],
   "source": [
    "from sklearn import metrics\n",
    "\n",
    "lm.score(X_test, y_test)"
   ]
  },
  {
   "cell_type": "code",
   "execution_count": 58,
   "metadata": {},
   "outputs": [
    {
     "name": "stdout",
     "output_type": "stream",
     "text": [
      "MAE: 668.093598444501\n"
     ]
    }
   ],
   "source": [
    "print('MAE:', metrics.mean_absolute_error(y_test, predictions))"
   ]
  },
  {
   "cell_type": "code",
   "execution_count": 59,
   "metadata": {},
   "outputs": [
    {
     "name": "stdout",
     "output_type": "stream",
     "text": [
      "MAE: 664.0168553853428\n",
      "Coeficiente de determinación (R^2) en datos escalados: -0.8613879382081755\n"
     ]
    }
   ],
   "source": [
    "# Ahora voy a escalar a ver si me da mejores resultados\n",
    "\n",
    "# Ahora voy a escalarlo\n",
    "from sklearn.preprocessing import StandardScaler\n",
    "\n",
    "# Inicializar el escalador\n",
    "scaler = StandardScaler()\n",
    "\n",
    "# Ajustar el escalador con los datos de entrenamiento y transformarlos\n",
    "X_train_scaled = scaler.fit_transform(X_train)\n",
    "X_test_scaled = scaler.transform(X_test)\n",
    "\n",
    "# Crear y entrenar el modelo de regresión lineal\n",
    "lm_scaled = LinearRegression()\n",
    "lm_scaled.fit(X_train_scaled, y)\n",
    "# Hacer predicciones con los datos de prueba escalados\n",
    "predictions_scaled = lm_scaled.predict(X_test_scaled)\n",
    "\n",
    "# Evaluar el modelo\n",
    "print('MAE:', mean_absolute_error(y_test, predictions_scaled))\n",
    "\n",
    "score_scaled = lm_scaled.score(X_test_scaled, y_test)\n",
    "print(\"Coeficiente de determinación (R^2) en datos escalados:\", score_scaled)"
   ]
  },
  {
   "cell_type": "code",
   "execution_count": 61,
   "metadata": {},
   "outputs": [],
   "source": [
    "dicccionario ={'id':df_encoded_test.index,\"Price_euros\": predictions_scaled}"
   ]
  },
  {
   "cell_type": "code",
   "execution_count": 63,
   "metadata": {},
   "outputs": [
    {
     "data": {
      "text/html": [
       "<div>\n",
       "<style scoped>\n",
       "    .dataframe tbody tr th:only-of-type {\n",
       "        vertical-align: middle;\n",
       "    }\n",
       "\n",
       "    .dataframe tbody tr th {\n",
       "        vertical-align: top;\n",
       "    }\n",
       "\n",
       "    .dataframe thead th {\n",
       "        text-align: right;\n",
       "    }\n",
       "</style>\n",
       "<table border=\"1\" class=\"dataframe\">\n",
       "  <thead>\n",
       "    <tr style=\"text-align: right;\">\n",
       "      <th></th>\n",
       "      <th>id</th>\n",
       "      <th>Price_euros</th>\n",
       "    </tr>\n",
       "  </thead>\n",
       "  <tbody>\n",
       "    <tr>\n",
       "      <th>0</th>\n",
       "      <td>181</td>\n",
       "      <td>2161.633364</td>\n",
       "    </tr>\n",
       "    <tr>\n",
       "      <th>1</th>\n",
       "      <td>708</td>\n",
       "      <td>921.633364</td>\n",
       "    </tr>\n",
       "    <tr>\n",
       "      <th>2</th>\n",
       "      <td>862</td>\n",
       "      <td>534.633364</td>\n",
       "    </tr>\n",
       "    <tr>\n",
       "      <th>3</th>\n",
       "      <td>1064</td>\n",
       "      <td>947.633364</td>\n",
       "    </tr>\n",
       "    <tr>\n",
       "      <th>4</th>\n",
       "      <td>702</td>\n",
       "      <td>951.633364</td>\n",
       "    </tr>\n",
       "    <tr>\n",
       "      <th>...</th>\n",
       "      <td>...</td>\n",
       "      <td>...</td>\n",
       "    </tr>\n",
       "    <tr>\n",
       "      <th>386</th>\n",
       "      <td>1281</td>\n",
       "      <td>1213.633364</td>\n",
       "    </tr>\n",
       "    <tr>\n",
       "      <th>387</th>\n",
       "      <td>524</td>\n",
       "      <td>1941.633364</td>\n",
       "    </tr>\n",
       "    <tr>\n",
       "      <th>388</th>\n",
       "      <td>1015</td>\n",
       "      <td>548.133364</td>\n",
       "    </tr>\n",
       "    <tr>\n",
       "      <th>389</th>\n",
       "      <td>1236</td>\n",
       "      <td>543.133364</td>\n",
       "    </tr>\n",
       "    <tr>\n",
       "      <th>390</th>\n",
       "      <td>1036</td>\n",
       "      <td>1209.633364</td>\n",
       "    </tr>\n",
       "  </tbody>\n",
       "</table>\n",
       "<p>391 rows × 2 columns</p>\n",
       "</div>"
      ],
      "text/plain": [
       "       id  Price_euros\n",
       "0     181  2161.633364\n",
       "1     708   921.633364\n",
       "2     862   534.633364\n",
       "3    1064   947.633364\n",
       "4     702   951.633364\n",
       "..    ...          ...\n",
       "386  1281  1213.633364\n",
       "387   524  1941.633364\n",
       "388  1015   548.133364\n",
       "389  1236   543.133364\n",
       "390  1036  1209.633364\n",
       "\n",
       "[391 rows x 2 columns]"
      ]
     },
     "execution_count": 63,
     "metadata": {},
     "output_type": "execute_result"
    }
   ],
   "source": [
    "df_scal = pd.DataFrame(dicccionario)\n",
    "df_scal"
   ]
  },
  {
   "cell_type": "markdown",
   "metadata": {},
   "source": [
    "### 4. Sacar métricas, valorar el modelo \n",
    "\n",
    "Recuerda que en la competición se va a evaluar con la métrica de MAE."
   ]
  },
  {
   "cell_type": "code",
   "execution_count": null,
   "metadata": {},
   "outputs": [],
   "source": []
  },
  {
   "cell_type": "code",
   "execution_count": null,
   "metadata": {},
   "outputs": [],
   "source": []
  },
  {
   "cell_type": "markdown",
   "metadata": {},
   "source": [
    "-----------------------------------------------------------------"
   ]
  },
  {
   "cell_type": "markdown",
   "metadata": {},
   "source": [
    "## Una vez listo el modelo, toca predecir con el dataset de predicción "
   ]
  },
  {
   "cell_type": "markdown",
   "metadata": {},
   "source": [
    "Definición de **modelo que está listo**. \n",
    "\n",
    "Tras hacer suficientes pruebas, analizar los datos, hacer feature engineering, probar diferentes modelos con diferentes parámetros, es con este con el que observo mejores métricas y menos overfitting. ¡Cuidado con el overfitting aquí! Si vuestro modelo aprende muy bien de estos datos pero hay overfitting cuando le pasemos los datos desconocidos de `test.csv` nos arriesgamos a que digamos, no salga lo esperado."
   ]
  },
  {
   "cell_type": "markdown",
   "metadata": {},
   "source": [
    "### 1. Entrena dicho modelo con TODOS tus datos de train, esto es con `train.csv` al completo.\n",
    "\n",
    "\n",
    "**CON LAS TRANSFORMACIONES QUE LE HAYAS REALIZADO A `X` INCLUÍDAS.**\n",
    "\n",
    "\n",
    "Véase:\n",
    "- Estandarización/Normalización\n",
    "- Eliminación de Outliers\n",
    "- Eliminación de columnas\n",
    "- Creación de columnas nuevas\n",
    "- Gestión de valores nulos\n",
    "- Y un largo etcétera de técnicas que como Data Scientist hayas considerado las mejores para tu dataset."
   ]
  },
  {
   "cell_type": "code",
   "execution_count": null,
   "metadata": {},
   "outputs": [],
   "source": []
  },
  {
   "cell_type": "markdown",
   "metadata": {},
   "source": [
    "### 2. Carga los datos de `test.csv` para predecir."
   ]
  },
  {
   "cell_type": "code",
   "execution_count": null,
   "metadata": {},
   "outputs": [],
   "source": []
  },
  {
   "cell_type": "markdown",
   "metadata": {},
   "source": [
    "**¿Por qué puede dar error?** "
   ]
  },
  {
   "cell_type": "code",
   "execution_count": null,
   "metadata": {},
   "outputs": [],
   "source": [
    "prediction = model.predict(X_pred)\n",
    "prediction"
   ]
  },
  {
   "cell_type": "markdown",
   "metadata": {},
   "source": [
    "IMPORTANTE: APLICAR A ESTOS DATOS LO MISMO QUE HAYÁIS APLICADO A LOS DATOS DE ENTRENAMIENTO\n",
    "\n",
    "- SI EL ARRAY CON EL QUE HICISTEIS `.fit()` ERA DE 4 COLUMNAS, PARA `.predict()` DEBEN SER LAS MISMAS\n",
    "- SI AL ARRAY CON EL QUE HICISTEIS `.fit()` LO NORMALIZASTEIS, PARA `.predict()` DEBÉIS NORMALIZARLO\n",
    "- TODO IGUAL SALVO BORRAR FILAS, EL NÚMERO DE ROWS SE DEBE MANTENER EN ESTE SET, PUES LA PREDICCIÓN DEBE TENER 391 FILAS, SI O SI"
   ]
  },
  {
   "cell_type": "markdown",
   "metadata": {},
   "source": [
    "**Entonces, si al cargar los datos de train usé `index_col=0` para que utilizara la primera columna del conjunto de datos como índice, ¿tendré que hacerlo también para el conjunto `test.csv`?**"
   ]
  },
  {
   "cell_type": "code",
   "execution_count": null,
   "metadata": {},
   "outputs": [],
   "source": [
    "# ¿Qué opináis?\n",
    "# Sí"
   ]
  },
  {
   "cell_type": "markdown",
   "metadata": {},
   "source": [
    "![](https://www.tierraljelechu.com/web/img/wiki_up/1.996-SorpresaDto.-1-Red.jpg)"
   ]
  },
  {
   "cell_type": "code",
   "execution_count": null,
   "metadata": {},
   "outputs": [],
   "source": []
  },
  {
   "cell_type": "markdown",
   "metadata": {},
   "source": [
    "### 3. AHORA puedo hacer la predicción que será lo que subirás a Kaggle. "
   ]
  },
  {
   "cell_type": "markdown",
   "metadata": {},
   "source": [
    "**¿Qué es lo que subirás a Kaggle?**"
   ]
  },
  {
   "cell_type": "code",
   "execution_count": null,
   "metadata": {},
   "outputs": [],
   "source": [
    "predictions = model.predict(X_pred)\n",
    "predictions"
   ]
  },
  {
   "cell_type": "markdown",
   "metadata": {},
   "source": [
    "**¡PERO! Para subir a Kaggle la predicción, ésta tendrá que tener una forma específica y no valdrá otra.**\n",
    "\n",
    "En este caso, la **MISMA** forma que `sample_submission.csv`. "
   ]
  },
  {
   "cell_type": "code",
   "execution_count": null,
   "metadata": {},
   "outputs": [],
   "source": [
    "sample = pd.read_csv(\"Dataset/sample_submission.csv\") # Esta es mi ruta del archivo, la vuestra puede ser otra"
   ]
  },
  {
   "cell_type": "code",
   "execution_count": null,
   "metadata": {},
   "outputs": [],
   "source": [
    "sample.head()"
   ]
  },
  {
   "cell_type": "code",
   "execution_count": null,
   "metadata": {},
   "outputs": [],
   "source": [
    "sample.shape"
   ]
  },
  {
   "cell_type": "markdown",
   "metadata": {},
   "source": [
    "### 4. Mete tus predicciones en un dataframe. \n",
    "\n",
    "En este caso, la **MISMA** forma que `sample_submission.csv`. "
   ]
  },
  {
   "cell_type": "code",
   "execution_count": null,
   "metadata": {},
   "outputs": [],
   "source": []
  },
  {
   "cell_type": "markdown",
   "metadata": {},
   "source": [
    "### 5. Pásale el CHEQUEATOR para comprobar que efectivamente está listo para subir a Kaggle."
   ]
  },
  {
   "cell_type": "code",
   "execution_count": 67,
   "metadata": {},
   "outputs": [],
   "source": [
    "def chequeator(df_to_submit):\n",
    "    \"\"\"\n",
    "    Esta función se asegura de que tu submission tenga la forma requerida por Kaggle.\n",
    "    \n",
    "    Si es así, se guardará el dataframe en un `csv` y estará listo para subir a Kaggle.\n",
    "    \n",
    "    Si no, LEE EL MENSAJE Y HAZLE CASO.\n",
    "    \n",
    "    Si aún no:\n",
    "    - apaga tu ordenador, \n",
    "    - date una vuelta, \n",
    "    - enciendelo otra vez, \n",
    "    - abre este notebook y \n",
    "    - leelo todo de nuevo. \n",
    "    Todos nos merecemos una segunda oportunidad. También tú.\n",
    "    \"\"\"\n",
    "    if df_to_submit.shape == sample.shape:\n",
    "        if df_to_submit.columns.all() == sample.columns.all():\n",
    "            if df_to_submit.id.all() == sample.id.all():\n",
    "                print(\"You're ready to submit!\")\n",
    "                df_to_submit.to_csv(\"submission.csv\", index = False) #muy importante el index = False\n",
    "                urllib.request.urlretrieve(\"https://i.kym-cdn.com/photos/images/facebook/000/747/556/27a.jpg\", \"gfg.png\")     \n",
    "                img = Image.open(\"gfg.png\")\n",
    "                img.show()   \n",
    "            else:\n",
    "                print(\"Check the ids and try again\")\n",
    "        else:\n",
    "            print(\"Check the names of the columns and try again\")\n",
    "    else:\n",
    "        print(\"Check the number of rows and/or columns and try again\")\n",
    "        print(\"\\nMensaje secreto de Clara: No me puedo creer que después de todo este notebook hayas hecho algún cambio en las filas de `diamonds_test.csv`. Lloro.\")\n"
   ]
  },
  {
   "cell_type": "code",
   "execution_count": 78,
   "metadata": {},
   "outputs": [
    {
     "name": "stdout",
     "output_type": "stream",
     "text": [
      "You're ready to submit!\n"
     ]
    },
    {
     "ename": "NameError",
     "evalue": "name 'submission' is not defined",
     "output_type": "error",
     "traceback": [
      "\u001b[1;31m---------------------------------------------------------------------------\u001b[0m",
      "\u001b[1;31mNameError\u001b[0m                                 Traceback (most recent call last)",
      "\u001b[1;32mc:\\Users\\danie\\OneDrive\\Escritorio\\kaggle_competition\\Kaggle_competition_Bootcamp\\notebooks\\segundo_modelo.ipynb Cell 80\u001b[0m line \u001b[0;36m1\n\u001b[1;32m----> <a href='vscode-notebook-cell:/c%3A/Users/danie/OneDrive/Escritorio/kaggle_competition/Kaggle_competition_Bootcamp/notebooks/segundo_modelo.ipynb#Y100sZmlsZQ%3D%3D?line=0'>1</a>\u001b[0m chequeator(df_scal) \u001b[39m# submission es el nombre que le habríamos puesto a nuestro .csv con los valores que me salieron en la predicción\u001b[39;00m\n",
      "\u001b[1;32mc:\\Users\\danie\\OneDrive\\Escritorio\\kaggle_competition\\Kaggle_competition_Bootcamp\\notebooks\\segundo_modelo.ipynb Cell 80\u001b[0m line \u001b[0;36m2\n\u001b[0;32m     <a href='vscode-notebook-cell:/c%3A/Users/danie/OneDrive/Escritorio/kaggle_competition/Kaggle_competition_Bootcamp/notebooks/segundo_modelo.ipynb#Y100sZmlsZQ%3D%3D?line=18'>19</a>\u001b[0m \u001b[39mif\u001b[39;00m df_to_submit\u001b[39m.\u001b[39mid\u001b[39m.\u001b[39mall() \u001b[39m==\u001b[39m sample\u001b[39m.\u001b[39mid\u001b[39m.\u001b[39mall():\n\u001b[0;32m     <a href='vscode-notebook-cell:/c%3A/Users/danie/OneDrive/Escritorio/kaggle_competition/Kaggle_competition_Bootcamp/notebooks/segundo_modelo.ipynb#Y100sZmlsZQ%3D%3D?line=19'>20</a>\u001b[0m     \u001b[39mprint\u001b[39m(\u001b[39m\"\u001b[39m\u001b[39mYou\u001b[39m\u001b[39m'\u001b[39m\u001b[39mre ready to submit!\u001b[39m\u001b[39m\"\u001b[39m)\n\u001b[1;32m---> <a href='vscode-notebook-cell:/c%3A/Users/danie/OneDrive/Escritorio/kaggle_competition/Kaggle_competition_Bootcamp/notebooks/segundo_modelo.ipynb#Y100sZmlsZQ%3D%3D?line=20'>21</a>\u001b[0m     submission\u001b[39m.\u001b[39mto_csv(\u001b[39m\"\u001b[39m\u001b[39msubmission.csv\u001b[39m\u001b[39m\"\u001b[39m, index \u001b[39m=\u001b[39m \u001b[39mFalse\u001b[39;00m) \u001b[39m#muy importante el index = False\u001b[39;00m\n\u001b[0;32m     <a href='vscode-notebook-cell:/c%3A/Users/danie/OneDrive/Escritorio/kaggle_competition/Kaggle_competition_Bootcamp/notebooks/segundo_modelo.ipynb#Y100sZmlsZQ%3D%3D?line=21'>22</a>\u001b[0m     urllib\u001b[39m.\u001b[39mrequest\u001b[39m.\u001b[39murlretrieve(\u001b[39m\"\u001b[39m\u001b[39mhttps://i.kym-cdn.com/photos/images/facebook/000/747/556/27a.jpg\u001b[39m\u001b[39m\"\u001b[39m, \u001b[39m\"\u001b[39m\u001b[39mgfg.png\u001b[39m\u001b[39m\"\u001b[39m)     \n\u001b[0;32m     <a href='vscode-notebook-cell:/c%3A/Users/danie/OneDrive/Escritorio/kaggle_competition/Kaggle_competition_Bootcamp/notebooks/segundo_modelo.ipynb#Y100sZmlsZQ%3D%3D?line=22'>23</a>\u001b[0m     img \u001b[39m=\u001b[39m Image\u001b[39m.\u001b[39mopen(\u001b[39m\"\u001b[39m\u001b[39mgfg.png\u001b[39m\u001b[39m\"\u001b[39m)\n",
      "\u001b[1;31mNameError\u001b[0m: name 'submission' is not defined"
     ]
    }
   ],
   "source": [
    "chequeator(df_scal) # submission es el nombre que le habríamos puesto a nuestro .csv con los valores que me salieron en la predicción"
   ]
  },
  {
   "cell_type": "code",
   "execution_count": 79,
   "metadata": {},
   "outputs": [],
   "source": [
    "df_scal.to_csv('segundo_modelo_escalado.csv', index=False)"
   ]
  },
  {
   "cell_type": "code",
   "execution_count": null,
   "metadata": {},
   "outputs": [],
   "source": []
  }
 ],
 "metadata": {
  "kernelspec": {
   "display_name": "Python 3.7.4 64-bit",
   "language": "python",
   "name": "python3"
  },
  "language_info": {
   "codemirror_mode": {
    "name": "ipython",
    "version": 3
   },
   "file_extension": ".py",
   "mimetype": "text/x-python",
   "name": "python",
   "nbconvert_exporter": "python",
   "pygments_lexer": "ipython3",
   "version": "3.11.4"
  },
  "vscode": {
   "interpreter": {
    "hash": "c0e4a4af33acb5d51fe8962d9e2e7588108ae49a894b6d1e35c2101e79360239"
   }
  }
 },
 "nbformat": 4,
 "nbformat_minor": 4
}
