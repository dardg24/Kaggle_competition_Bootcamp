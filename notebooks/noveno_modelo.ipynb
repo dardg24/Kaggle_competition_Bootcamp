{
 "cells": [
  {
   "cell_type": "markdown",
   "metadata": {},
   "source": [
    "#### Aquí encontrarás todo lo que necesitas saber: https://www.kaggle.com/competitions/precio-portatiles-the-bridge/overview"
   ]
  },
  {
   "cell_type": "markdown",
   "metadata": {},
   "source": [
    "## Librerias"
   ]
  },
  {
   "cell_type": "code",
   "execution_count": 1,
   "metadata": {},
   "outputs": [],
   "source": [
    "import numpy as np\n",
    "import pandas as pd\n",
    "import seaborn as sns\n",
    "import matplotlib.pyplot as plt\n",
    "from sklearn.linear_model import LinearRegression\n",
    "from Funciones import *"
   ]
  },
  {
   "cell_type": "markdown",
   "metadata": {},
   "source": [
    "## Data"
   ]
  },
  {
   "cell_type": "markdown",
   "metadata": {},
   "source": [
    "- Variable a predecir: Price_euros\n",
    "\n",
    "- Variables predictoras: por defenir\n",
    "\n",
    "- Variables a desechar: laptop_ID, "
   ]
  },
  {
   "cell_type": "code",
   "execution_count": 2,
   "metadata": {},
   "outputs": [],
   "source": [
    "df_test = pd.read_csv('../data/test.csv', index_col=0)\n",
    "# df_test"
   ]
  },
  {
   "cell_type": "code",
   "execution_count": 3,
   "metadata": {},
   "outputs": [],
   "source": [
    "df_train = pd.read_csv('../data/train.csv', index_col=0)\n",
    "# df_train"
   ]
  },
  {
   "cell_type": "code",
   "execution_count": 4,
   "metadata": {},
   "outputs": [],
   "source": [
    "sample = pd.read_csv('../data/sample_submission.csv')\n",
    "# sample"
   ]
  },
  {
   "cell_type": "markdown",
   "metadata": {},
   "source": [
    "## Data exploration"
   ]
  },
  {
   "cell_type": "code",
   "execution_count": 5,
   "metadata": {},
   "outputs": [],
   "source": [
    "# df_train['TypeName'].nunique()"
   ]
  },
  {
   "cell_type": "code",
   "execution_count": 6,
   "metadata": {},
   "outputs": [],
   "source": [
    "# df_train['TypeName'].value_counts()"
   ]
  },
  {
   "cell_type": "code",
   "execution_count": 7,
   "metadata": {},
   "outputs": [],
   "source": [
    "# df_train['OpSys'].value_counts()"
   ]
  },
  {
   "cell_type": "markdown",
   "metadata": {},
   "source": [
    "## Data processing"
   ]
  },
  {
   "cell_type": "markdown",
   "metadata": {},
   "source": [
    "## Test"
   ]
  },
  {
   "cell_type": "code",
   "execution_count": 8,
   "metadata": {},
   "outputs": [],
   "source": [
    "# Para este primer modelo voy a limpiar algunas columnas y cambiar su dtype\n",
    "\n",
    "#Primero ram\n",
    "df_test['Ram'] = df_test['Ram'].str.replace('GB', '').astype(int)\n",
    "\n",
    "# Ahora voy a transformar Weight\n",
    "df_test['Weight'] = df_test['Weight'].str.replace('kg', '').astype(float)\n",
    "\n",
    "# Voy a renombar  Weight y le pondré Weigh/kg para que sea más descriptiva y se entienda que los valores numericos hacen referencia a su peso en kg\n",
    "\n",
    "df_test = df_test.rename(columns={'Weight': 'Weight/kg'})"
   ]
  },
  {
   "cell_type": "code",
   "execution_count": 9,
   "metadata": {},
   "outputs": [],
   "source": [
    "# Me haré un segundo DF donde desecho las primeras dos columnas porque no las necesito para la predicción\n",
    "\n",
    "df2_test = df_test.drop(['laptop_ID'], axis=1)\n",
    "\n",
    "# Voy a ver si puedo sacarle provecho al typeName\n",
    "# df2_t = df2_t.drop(['TypeName'], axis=1)"
   ]
  },
  {
   "cell_type": "code",
   "execution_count": 10,
   "metadata": {},
   "outputs": [],
   "source": [
    "# Función que agrupa OS\n",
    "def group_os(name):\n",
    "    if 'Windows' in name:\n",
    "        return 'Windows'\n",
    "    elif re.search(r'mac', name, re.IGNORECASE):\n",
    "        return 'Mac'\n",
    "    elif name in ['Linux', 'Chrome OS', 'Android']:\n",
    "        return 'Other OS'\n",
    "    else:\n",
    "        return 'No OS/Other'"
   ]
  },
  {
   "cell_type": "code",
   "execution_count": 11,
   "metadata": {},
   "outputs": [],
   "source": [
    "# Extraigo los pixeles\n",
    "def extraer_pixeles(resolucion):\n",
    "    # Busca dos números separados por 'x' o 'X'\n",
    "    match = re.search(r'(\\d+)x(\\d+)', resolucion, re.IGNORECASE)\n",
    "    if match:\n",
    "        ancho, alto = map(int, match.groups())\n",
    "        return ancho * alto\n",
    "    else:\n",
    "        return None  # O un valor por defecto, como 0 o -1\n"
   ]
  },
  {
   "cell_type": "code",
   "execution_count": 12,
   "metadata": {},
   "outputs": [],
   "source": [
    "# Función extrae los screen featuring\n",
    "def screen_featuring(row):\n",
    "    ips = 'IPS' in row\n",
    "    touchscreen = 'Touchscreen' in row\n",
    "    return pd.Series([ips, touchscreen])"
   ]
  },
  {
   "cell_type": "code",
   "execution_count": 13,
   "metadata": {},
   "outputs": [],
   "source": [
    "def extraer_gb(memoria):\n",
    "    total_gb = 0\n",
    "\n",
    "    # Buscar GB\n",
    "    matches_gb = re.findall(r'(\\d+)GB', memoria)\n",
    "    for match in matches_gb:\n",
    "        total_gb += int(match)\n",
    "\n",
    "    # Buscar TB y convertir a GB (1 TB = 1024 GB)\n",
    "    matches_tb = re.findall(r'(\\d+)TB', memoria)\n",
    "    for match in matches_tb:\n",
    "        total_gb += int(match) * 1024\n",
    "\n",
    "    return total_gb if total_gb > 0 else 0  # Devuelve 0 si no se encuentra nada\n"
   ]
  },
  {
   "cell_type": "code",
   "execution_count": 14,
   "metadata": {},
   "outputs": [],
   "source": [
    "def codificar_tipo_memoria(memoria):\n",
    "    if 'SSD' in memoria:\n",
    "        return 1\n",
    "    elif 'HDD' in memoria:\n",
    "        return 2\n",
    "    elif 'Hybrid' in memoria:\n",
    "        return 3\n",
    "    elif 'Flash' in memoria:\n",
    "        return 4\n",
    "    else:\n",
    "        return 0  # O algún otro código para tipos no listados"
   ]
  },
  {
   "cell_type": "code",
   "execution_count": 15,
   "metadata": {},
   "outputs": [],
   "source": [
    "#  Agrupar por marcas\n",
    "def asignar_marca_gpu(gpu):\n",
    "    if 'Intel' in gpu:\n",
    "        return 'Intel'\n",
    "    elif 'Nvidia' in gpu:\n",
    "        return 'Nvidia'\n",
    "    elif 'AMD' in gpu:\n",
    "        return 'AMD'\n",
    "    else:\n",
    "        return 'Otro'"
   ]
  },
  {
   "cell_type": "code",
   "execution_count": 16,
   "metadata": {},
   "outputs": [],
   "source": [
    "def clasificar_cpu(cpu):\n",
    "    if 'i7' in cpu or 'i9' in cpu or 'Ryzen 7' in cpu or 'Ryzen 9' in cpu:\n",
    "        return 'Alta'\n",
    "    # elif 'i5' in cpu or 'Ryzen 5' in cpu:\n",
    "    #     return 'Media'\n",
    "    else:\n",
    "        return 'Baja'"
   ]
  },
  {
   "cell_type": "code",
   "execution_count": 17,
   "metadata": {},
   "outputs": [],
   "source": [
    "def extraer_ghz(cpu):\n",
    "    match = re.search(r'(\\d+\\.?\\d*)GHz', cpu)\n",
    "    return float(match.group(1)) if match else 0"
   ]
  },
  {
   "cell_type": "code",
   "execution_count": 18,
   "metadata": {},
   "outputs": [],
   "source": [
    "# Agrupo varias variables\n",
    "df2_test['OpSys_Grouped'] = df2_test['OpSys'].apply(group_os)\n",
    "df2_test['Company_Grouped'] = df2_test['Company'].apply(agrupar_marcas)\n",
    "\n",
    "# Extraer los píxeles\n",
    "df2_test['Pixeles_Total'] = df2_test['ScreenResolution'].apply(extraer_pixeles)\n",
    "\n",
    "# Extraer características de la pantalla\n",
    "df2_test[['IPS', 'Touchscreen']] = df2_test['ScreenResolution'].apply(screen_featuring)\n",
    "\n",
    "# Memoria\n",
    "df2_test['Total_Memory_GB'] = df2_test['Memory'].apply(extraer_gb)\n",
    "df2_test['Memory_Type_Code'] = df2_test['Memory'].apply(codificar_tipo_memoria)\n",
    "\n",
    "# Aplico la función asignar brand a GPU\n",
    "df2_test['GPU_Marca'] = df2_test['Gpu'].apply(asignar_marca_gpu)\n",
    "\n",
    "# Clasificamos los CPU\n",
    "df2_test['CPU_Gama'] = df2_test['Cpu'].apply(clasificar_cpu)\n",
    "\n",
    "# Aplicar la función para extraer la velocidad de GHz\n",
    "df2_test['CPU_GHz'] = df2_test['Cpu'].apply(extraer_ghz)"
   ]
  },
  {
   "cell_type": "code",
   "execution_count": 19,
   "metadata": {},
   "outputs": [
    {
     "data": {
      "text/html": [
       "<div>\n",
       "<style scoped>\n",
       "    .dataframe tbody tr th:only-of-type {\n",
       "        vertical-align: middle;\n",
       "    }\n",
       "\n",
       "    .dataframe tbody tr th {\n",
       "        vertical-align: top;\n",
       "    }\n",
       "\n",
       "    .dataframe thead th {\n",
       "        text-align: right;\n",
       "    }\n",
       "</style>\n",
       "<table border=\"1\" class=\"dataframe\">\n",
       "  <thead>\n",
       "    <tr style=\"text-align: right;\">\n",
       "      <th></th>\n",
       "      <th>Company</th>\n",
       "      <th>Product</th>\n",
       "      <th>TypeName</th>\n",
       "      <th>Inches</th>\n",
       "      <th>ScreenResolution</th>\n",
       "      <th>Cpu</th>\n",
       "      <th>Ram</th>\n",
       "      <th>Memory</th>\n",
       "      <th>Gpu</th>\n",
       "      <th>OpSys</th>\n",
       "      <th>...</th>\n",
       "      <th>OpSys_Grouped</th>\n",
       "      <th>Company_Grouped</th>\n",
       "      <th>Pixeles_Total</th>\n",
       "      <th>IPS</th>\n",
       "      <th>Touchscreen</th>\n",
       "      <th>Total_Memory_GB</th>\n",
       "      <th>Memory_Type_Code</th>\n",
       "      <th>GPU_Marca</th>\n",
       "      <th>CPU_Gama</th>\n",
       "      <th>CPU_GHz</th>\n",
       "    </tr>\n",
       "    <tr>\n",
       "      <th>id</th>\n",
       "      <th></th>\n",
       "      <th></th>\n",
       "      <th></th>\n",
       "      <th></th>\n",
       "      <th></th>\n",
       "      <th></th>\n",
       "      <th></th>\n",
       "      <th></th>\n",
       "      <th></th>\n",
       "      <th></th>\n",
       "      <th></th>\n",
       "      <th></th>\n",
       "      <th></th>\n",
       "      <th></th>\n",
       "      <th></th>\n",
       "      <th></th>\n",
       "      <th></th>\n",
       "      <th></th>\n",
       "      <th></th>\n",
       "      <th></th>\n",
       "      <th></th>\n",
       "    </tr>\n",
       "  </thead>\n",
       "  <tbody>\n",
       "    <tr>\n",
       "      <th>181</th>\n",
       "      <td>HP</td>\n",
       "      <td>Spectre x360</td>\n",
       "      <td>Ultrabook</td>\n",
       "      <td>13.3</td>\n",
       "      <td>IPS Panel 4K Ultra HD 3840x2160</td>\n",
       "      <td>Intel Core i7 7500U 2.7GHz</td>\n",
       "      <td>16</td>\n",
       "      <td>512GB SSD</td>\n",
       "      <td>Intel HD Graphics 620</td>\n",
       "      <td>Windows 10</td>\n",
       "      <td>...</td>\n",
       "      <td>Windows</td>\n",
       "      <td>HP</td>\n",
       "      <td>8294400</td>\n",
       "      <td>True</td>\n",
       "      <td>False</td>\n",
       "      <td>512</td>\n",
       "      <td>1</td>\n",
       "      <td>Intel</td>\n",
       "      <td>Alta</td>\n",
       "      <td>2.7</td>\n",
       "    </tr>\n",
       "    <tr>\n",
       "      <th>708</th>\n",
       "      <td>Acer</td>\n",
       "      <td>Aspire 5</td>\n",
       "      <td>Notebook</td>\n",
       "      <td>15.6</td>\n",
       "      <td>1366x768</td>\n",
       "      <td>AMD A12-Series 9720P 2.7GHz</td>\n",
       "      <td>8</td>\n",
       "      <td>256GB SSD</td>\n",
       "      <td>AMD Radeon RX 540</td>\n",
       "      <td>Windows 10</td>\n",
       "      <td>...</td>\n",
       "      <td>Windows</td>\n",
       "      <td>Acer</td>\n",
       "      <td>1049088</td>\n",
       "      <td>False</td>\n",
       "      <td>False</td>\n",
       "      <td>256</td>\n",
       "      <td>1</td>\n",
       "      <td>AMD</td>\n",
       "      <td>Baja</td>\n",
       "      <td>2.7</td>\n",
       "    </tr>\n",
       "    <tr>\n",
       "      <th>862</th>\n",
       "      <td>Acer</td>\n",
       "      <td>Aspire ES1-572</td>\n",
       "      <td>Notebook</td>\n",
       "      <td>15.6</td>\n",
       "      <td>1366x768</td>\n",
       "      <td>Intel Core i3 6006U 2.0GHz</td>\n",
       "      <td>4</td>\n",
       "      <td>500GB HDD</td>\n",
       "      <td>Intel HD Graphics 520</td>\n",
       "      <td>Linux</td>\n",
       "      <td>...</td>\n",
       "      <td>Other OS</td>\n",
       "      <td>Acer</td>\n",
       "      <td>1049088</td>\n",
       "      <td>False</td>\n",
       "      <td>False</td>\n",
       "      <td>500</td>\n",
       "      <td>2</td>\n",
       "      <td>Intel</td>\n",
       "      <td>Baja</td>\n",
       "      <td>2.0</td>\n",
       "    </tr>\n",
       "    <tr>\n",
       "      <th>1064</th>\n",
       "      <td>HP</td>\n",
       "      <td>EliteBook 1040</td>\n",
       "      <td>Notebook</td>\n",
       "      <td>14.0</td>\n",
       "      <td>Full HD 1920x1080</td>\n",
       "      <td>Intel Core i5 6200U 2.3GHz</td>\n",
       "      <td>8</td>\n",
       "      <td>256GB SSD</td>\n",
       "      <td>Intel HD Graphics 520</td>\n",
       "      <td>Windows 7</td>\n",
       "      <td>...</td>\n",
       "      <td>Windows</td>\n",
       "      <td>HP</td>\n",
       "      <td>2073600</td>\n",
       "      <td>False</td>\n",
       "      <td>False</td>\n",
       "      <td>256</td>\n",
       "      <td>1</td>\n",
       "      <td>Intel</td>\n",
       "      <td>Baja</td>\n",
       "      <td>2.3</td>\n",
       "    </tr>\n",
       "    <tr>\n",
       "      <th>702</th>\n",
       "      <td>HP</td>\n",
       "      <td>ENVY -</td>\n",
       "      <td>Notebook</td>\n",
       "      <td>13.3</td>\n",
       "      <td>IPS Panel Full HD 1920x1080</td>\n",
       "      <td>Intel Core i5 7200U 2.5GHz</td>\n",
       "      <td>8</td>\n",
       "      <td>256GB SSD</td>\n",
       "      <td>Intel HD Graphics 620</td>\n",
       "      <td>Windows 10</td>\n",
       "      <td>...</td>\n",
       "      <td>Windows</td>\n",
       "      <td>HP</td>\n",
       "      <td>2073600</td>\n",
       "      <td>True</td>\n",
       "      <td>False</td>\n",
       "      <td>256</td>\n",
       "      <td>1</td>\n",
       "      <td>Intel</td>\n",
       "      <td>Baja</td>\n",
       "      <td>2.5</td>\n",
       "    </tr>\n",
       "    <tr>\n",
       "      <th>...</th>\n",
       "      <td>...</td>\n",
       "      <td>...</td>\n",
       "      <td>...</td>\n",
       "      <td>...</td>\n",
       "      <td>...</td>\n",
       "      <td>...</td>\n",
       "      <td>...</td>\n",
       "      <td>...</td>\n",
       "      <td>...</td>\n",
       "      <td>...</td>\n",
       "      <td>...</td>\n",
       "      <td>...</td>\n",
       "      <td>...</td>\n",
       "      <td>...</td>\n",
       "      <td>...</td>\n",
       "      <td>...</td>\n",
       "      <td>...</td>\n",
       "      <td>...</td>\n",
       "      <td>...</td>\n",
       "      <td>...</td>\n",
       "      <td>...</td>\n",
       "    </tr>\n",
       "    <tr>\n",
       "      <th>1281</th>\n",
       "      <td>Lenovo</td>\n",
       "      <td>Legion Y520-15IKBN</td>\n",
       "      <td>Gaming</td>\n",
       "      <td>15.6</td>\n",
       "      <td>IPS Panel Full HD 1920x1080</td>\n",
       "      <td>Intel Core i7 7700HQ 2.8GHz</td>\n",
       "      <td>8</td>\n",
       "      <td>256GB SSD</td>\n",
       "      <td>Nvidia GeForce GTX 1050M</td>\n",
       "      <td>No OS</td>\n",
       "      <td>...</td>\n",
       "      <td>No OS/Other</td>\n",
       "      <td>Lenovo</td>\n",
       "      <td>2073600</td>\n",
       "      <td>True</td>\n",
       "      <td>False</td>\n",
       "      <td>256</td>\n",
       "      <td>1</td>\n",
       "      <td>Nvidia</td>\n",
       "      <td>Alta</td>\n",
       "      <td>2.8</td>\n",
       "    </tr>\n",
       "    <tr>\n",
       "      <th>524</th>\n",
       "      <td>Lenovo</td>\n",
       "      <td>IdeaPad Y700-15ISK</td>\n",
       "      <td>Gaming</td>\n",
       "      <td>15.6</td>\n",
       "      <td>IPS Panel Full HD 1920x1080</td>\n",
       "      <td>Intel Core i7 6700HQ 2.6GHz</td>\n",
       "      <td>16</td>\n",
       "      <td>512GB SSD</td>\n",
       "      <td>Nvidia GeForce GTX 960</td>\n",
       "      <td>Windows 10</td>\n",
       "      <td>...</td>\n",
       "      <td>Windows</td>\n",
       "      <td>Lenovo</td>\n",
       "      <td>2073600</td>\n",
       "      <td>True</td>\n",
       "      <td>False</td>\n",
       "      <td>512</td>\n",
       "      <td>1</td>\n",
       "      <td>Nvidia</td>\n",
       "      <td>Alta</td>\n",
       "      <td>2.6</td>\n",
       "    </tr>\n",
       "    <tr>\n",
       "      <th>1015</th>\n",
       "      <td>HP</td>\n",
       "      <td>250 G5</td>\n",
       "      <td>Notebook</td>\n",
       "      <td>15.6</td>\n",
       "      <td>1366x768</td>\n",
       "      <td>Intel Core i5 7200U 2.5GHz</td>\n",
       "      <td>4</td>\n",
       "      <td>500GB HDD</td>\n",
       "      <td>Intel HD Graphics 620</td>\n",
       "      <td>No OS</td>\n",
       "      <td>...</td>\n",
       "      <td>No OS/Other</td>\n",
       "      <td>HP</td>\n",
       "      <td>1049088</td>\n",
       "      <td>False</td>\n",
       "      <td>False</td>\n",
       "      <td>500</td>\n",
       "      <td>2</td>\n",
       "      <td>Intel</td>\n",
       "      <td>Baja</td>\n",
       "      <td>2.5</td>\n",
       "    </tr>\n",
       "    <tr>\n",
       "      <th>1236</th>\n",
       "      <td>HP</td>\n",
       "      <td>15-bw000nv (E2-9000e/4GB/500GB/Radeon</td>\n",
       "      <td>Notebook</td>\n",
       "      <td>15.6</td>\n",
       "      <td>Full HD 1920x1080</td>\n",
       "      <td>AMD E-Series E2-9000e 1.5GHz</td>\n",
       "      <td>4</td>\n",
       "      <td>500GB HDD</td>\n",
       "      <td>AMD Radeon R2</td>\n",
       "      <td>Windows 10</td>\n",
       "      <td>...</td>\n",
       "      <td>Windows</td>\n",
       "      <td>HP</td>\n",
       "      <td>2073600</td>\n",
       "      <td>False</td>\n",
       "      <td>False</td>\n",
       "      <td>500</td>\n",
       "      <td>2</td>\n",
       "      <td>AMD</td>\n",
       "      <td>Baja</td>\n",
       "      <td>1.5</td>\n",
       "    </tr>\n",
       "    <tr>\n",
       "      <th>1036</th>\n",
       "      <td>Lenovo</td>\n",
       "      <td>Yoga 920-13IKB</td>\n",
       "      <td>2 in 1 Convertible</td>\n",
       "      <td>13.9</td>\n",
       "      <td>IPS Panel Full HD / Touchscreen 1920x1080</td>\n",
       "      <td>Intel Core i7 8550U 1.8GHz</td>\n",
       "      <td>8</td>\n",
       "      <td>512GB SSD</td>\n",
       "      <td>Intel UHD Graphics 620</td>\n",
       "      <td>Windows 10</td>\n",
       "      <td>...</td>\n",
       "      <td>Windows</td>\n",
       "      <td>Lenovo</td>\n",
       "      <td>2073600</td>\n",
       "      <td>True</td>\n",
       "      <td>True</td>\n",
       "      <td>512</td>\n",
       "      <td>1</td>\n",
       "      <td>Intel</td>\n",
       "      <td>Alta</td>\n",
       "      <td>1.8</td>\n",
       "    </tr>\n",
       "  </tbody>\n",
       "</table>\n",
       "<p>391 rows × 21 columns</p>\n",
       "</div>"
      ],
      "text/plain": [
       "     Company                                Product            TypeName  \\\n",
       "id                                                                        \n",
       "181       HP                           Spectre x360           Ultrabook   \n",
       "708     Acer                               Aspire 5            Notebook   \n",
       "862     Acer                         Aspire ES1-572            Notebook   \n",
       "1064      HP                         EliteBook 1040            Notebook   \n",
       "702       HP                                 ENVY -            Notebook   \n",
       "...      ...                                    ...                 ...   \n",
       "1281  Lenovo                     Legion Y520-15IKBN              Gaming   \n",
       "524   Lenovo                     IdeaPad Y700-15ISK              Gaming   \n",
       "1015      HP                                 250 G5            Notebook   \n",
       "1236      HP  15-bw000nv (E2-9000e/4GB/500GB/Radeon            Notebook   \n",
       "1036  Lenovo                         Yoga 920-13IKB  2 in 1 Convertible   \n",
       "\n",
       "      Inches                           ScreenResolution  \\\n",
       "id                                                        \n",
       "181     13.3            IPS Panel 4K Ultra HD 3840x2160   \n",
       "708     15.6                                   1366x768   \n",
       "862     15.6                                   1366x768   \n",
       "1064    14.0                          Full HD 1920x1080   \n",
       "702     13.3                IPS Panel Full HD 1920x1080   \n",
       "...      ...                                        ...   \n",
       "1281    15.6                IPS Panel Full HD 1920x1080   \n",
       "524     15.6                IPS Panel Full HD 1920x1080   \n",
       "1015    15.6                                   1366x768   \n",
       "1236    15.6                          Full HD 1920x1080   \n",
       "1036    13.9  IPS Panel Full HD / Touchscreen 1920x1080   \n",
       "\n",
       "                               Cpu  Ram     Memory                       Gpu  \\\n",
       "id                                                                             \n",
       "181     Intel Core i7 7500U 2.7GHz   16  512GB SSD     Intel HD Graphics 620   \n",
       "708    AMD A12-Series 9720P 2.7GHz    8  256GB SSD         AMD Radeon RX 540   \n",
       "862     Intel Core i3 6006U 2.0GHz    4  500GB HDD     Intel HD Graphics 520   \n",
       "1064    Intel Core i5 6200U 2.3GHz    8  256GB SSD     Intel HD Graphics 520   \n",
       "702     Intel Core i5 7200U 2.5GHz    8  256GB SSD     Intel HD Graphics 620   \n",
       "...                            ...  ...        ...                       ...   \n",
       "1281   Intel Core i7 7700HQ 2.8GHz    8  256GB SSD  Nvidia GeForce GTX 1050M   \n",
       "524    Intel Core i7 6700HQ 2.6GHz   16  512GB SSD    Nvidia GeForce GTX 960   \n",
       "1015    Intel Core i5 7200U 2.5GHz    4  500GB HDD     Intel HD Graphics 620   \n",
       "1236  AMD E-Series E2-9000e 1.5GHz    4  500GB HDD             AMD Radeon R2   \n",
       "1036    Intel Core i7 8550U 1.8GHz    8  512GB SSD    Intel UHD Graphics 620   \n",
       "\n",
       "           OpSys  ...  OpSys_Grouped Company_Grouped Pixeles_Total    IPS  \\\n",
       "id                ...                                                       \n",
       "181   Windows 10  ...        Windows              HP       8294400   True   \n",
       "708   Windows 10  ...        Windows            Acer       1049088  False   \n",
       "862        Linux  ...       Other OS            Acer       1049088  False   \n",
       "1064   Windows 7  ...        Windows              HP       2073600  False   \n",
       "702   Windows 10  ...        Windows              HP       2073600   True   \n",
       "...          ...  ...            ...             ...           ...    ...   \n",
       "1281       No OS  ...    No OS/Other          Lenovo       2073600   True   \n",
       "524   Windows 10  ...        Windows          Lenovo       2073600   True   \n",
       "1015       No OS  ...    No OS/Other              HP       1049088  False   \n",
       "1236  Windows 10  ...        Windows              HP       2073600  False   \n",
       "1036  Windows 10  ...        Windows          Lenovo       2073600   True   \n",
       "\n",
       "      Touchscreen  Total_Memory_GB  Memory_Type_Code  GPU_Marca CPU_Gama  \\\n",
       "id                                                                         \n",
       "181         False              512                 1      Intel     Alta   \n",
       "708         False              256                 1        AMD     Baja   \n",
       "862         False              500                 2      Intel     Baja   \n",
       "1064        False              256                 1      Intel     Baja   \n",
       "702         False              256                 1      Intel     Baja   \n",
       "...           ...              ...               ...        ...      ...   \n",
       "1281        False              256                 1     Nvidia     Alta   \n",
       "524         False              512                 1     Nvidia     Alta   \n",
       "1015        False              500                 2      Intel     Baja   \n",
       "1236        False              500                 2        AMD     Baja   \n",
       "1036         True              512                 1      Intel     Alta   \n",
       "\n",
       "     CPU_GHz  \n",
       "id            \n",
       "181      2.7  \n",
       "708      2.7  \n",
       "862      2.0  \n",
       "1064     2.3  \n",
       "702      2.5  \n",
       "...      ...  \n",
       "1281     2.8  \n",
       "524      2.6  \n",
       "1015     2.5  \n",
       "1236     1.5  \n",
       "1036     1.8  \n",
       "\n",
       "[391 rows x 21 columns]"
      ]
     },
     "execution_count": 19,
     "metadata": {},
     "output_type": "execute_result"
    }
   ],
   "source": [
    "df2_test"
   ]
  },
  {
   "cell_type": "code",
   "execution_count": 20,
   "metadata": {},
   "outputs": [],
   "source": [
    "# Dummies_os\n",
    "dummies_os_test = pd.get_dummies(df2_test, columns=[\"Company_Grouped\"])"
   ]
  },
  {
   "cell_type": "code",
   "execution_count": 21,
   "metadata": {},
   "outputs": [],
   "source": [
    "# Dummies_comp\n",
    "dummies_com_test = pd.get_dummies(df2_test, columns=[\"Company_Grouped\"])\n",
    "\n",
    "# Creo dummies para CPU_Gama\n",
    "\n",
    "cpu_gama_dummies = pd.get_dummies(df2_test['CPU_Gama'], prefix='CPU')\n",
    "\n",
    "# Creo dummies para GPU_Marca\n",
    "marca_gpu_dummies = pd.get_dummies(df2_test['GPU_Marca'], prefix='GPU')"
   ]
  },
  {
   "cell_type": "code",
   "execution_count": 22,
   "metadata": {},
   "outputs": [
    {
     "name": "stdout",
     "output_type": "stream",
     "text": [
      "<class 'pandas.core.frame.DataFrame'>\n",
      "Index: 391 entries, 181 to 1036\n",
      "Data columns (total 26 columns):\n",
      " #   Column                       Non-Null Count  Dtype  \n",
      "---  ------                       --------------  -----  \n",
      " 0   Company                      391 non-null    object \n",
      " 1   Product                      391 non-null    object \n",
      " 2   Inches                       391 non-null    float64\n",
      " 3   ScreenResolution             391 non-null    object \n",
      " 4   Cpu                          391 non-null    object \n",
      " 5   Ram                          391 non-null    int32  \n",
      " 6   Memory                       391 non-null    object \n",
      " 7   Gpu                          391 non-null    object \n",
      " 8   OpSys                        391 non-null    object \n",
      " 9   Weight/kg                    391 non-null    float64\n",
      " 10  OpSys_Grouped                391 non-null    object \n",
      " 11  Company_Grouped              391 non-null    object \n",
      " 12  Pixeles_Total                391 non-null    int64  \n",
      " 13  IPS                          391 non-null    bool   \n",
      " 14  Touchscreen                  391 non-null    bool   \n",
      " 15  Total_Memory_GB              391 non-null    int64  \n",
      " 16  Memory_Type_Code             391 non-null    int64  \n",
      " 17  GPU_Marca                    391 non-null    object \n",
      " 18  CPU_Gama                     391 non-null    object \n",
      " 19  CPU_GHz                      391 non-null    float64\n",
      " 20  TypeName_2 in 1 Convertible  391 non-null    bool   \n",
      " 21  TypeName_Gaming              391 non-null    bool   \n",
      " 22  TypeName_Netbook             391 non-null    bool   \n",
      " 23  TypeName_Notebook            391 non-null    bool   \n",
      " 24  TypeName_Ultrabook           391 non-null    bool   \n",
      " 25  TypeName_Workstation         391 non-null    bool   \n",
      "dtypes: bool(8), float64(3), int32(1), int64(3), object(11)\n",
      "memory usage: 59.6+ KB\n"
     ]
    }
   ],
   "source": [
    "# Aplicar One-Hot Encoding a la variable TypeName, al ser tan pocos no hizo falta agruparlos primero\n",
    "df_encoded_test = pd.get_dummies(df2_test, columns=['TypeName'])\n",
    "df_encoded_test.info()"
   ]
  },
  {
   "cell_type": "code",
   "execution_count": 23,
   "metadata": {},
   "outputs": [
    {
     "name": "stdout",
     "output_type": "stream",
     "text": [
      "<class 'pandas.core.frame.DataFrame'>\n",
      "Index: 391 entries, 181 to 1036\n",
      "Data columns (total 30 columns):\n",
      " #   Column                       Non-Null Count  Dtype  \n",
      "---  ------                       --------------  -----  \n",
      " 0   Company                      391 non-null    object \n",
      " 1   Product                      391 non-null    object \n",
      " 2   Inches                       391 non-null    float64\n",
      " 3   ScreenResolution             391 non-null    object \n",
      " 4   Cpu                          391 non-null    object \n",
      " 5   Ram                          391 non-null    int32  \n",
      " 6   Memory                       391 non-null    object \n",
      " 7   Gpu                          391 non-null    object \n",
      " 8   OpSys                        391 non-null    object \n",
      " 9   Weight/kg                    391 non-null    float64\n",
      " 10  OpSys_Grouped                391 non-null    object \n",
      " 11  Company_Grouped              391 non-null    object \n",
      " 12  Pixeles_Total                391 non-null    int64  \n",
      " 13  IPS                          391 non-null    bool   \n",
      " 14  Touchscreen                  391 non-null    bool   \n",
      " 15  Total_Memory_GB              391 non-null    int64  \n",
      " 16  Memory_Type_Code             391 non-null    int64  \n",
      " 17  GPU_Marca                    391 non-null    object \n",
      " 18  CPU_Gama                     391 non-null    object \n",
      " 19  CPU_GHz                      391 non-null    float64\n",
      " 20  TypeName_2 in 1 Convertible  391 non-null    bool   \n",
      " 21  TypeName_Gaming              391 non-null    bool   \n",
      " 22  TypeName_Netbook             391 non-null    bool   \n",
      " 23  TypeName_Notebook            391 non-null    bool   \n",
      " 24  TypeName_Ultrabook           391 non-null    bool   \n",
      " 25  TypeName_Workstation         391 non-null    bool   \n",
      " 26  GPU_AMD                      391 non-null    bool   \n",
      " 27  GPU_Intel                    391 non-null    bool   \n",
      " 28  GPU_Nvidia                   391 non-null    bool   \n",
      " 29  GPU_Otro                     391 non-null    bool   \n",
      "dtypes: bool(12), float64(3), int32(1), int64(3), object(11)\n",
      "memory usage: 61.1+ KB\n"
     ]
    }
   ],
   "source": [
    "# Uno GPU_dummies con encoded\n",
    "df_encoded_test_2 = pd.concat([df_encoded_test, marca_gpu_dummies], axis=1)\n",
    "df_encoded_test_2.info()"
   ]
  },
  {
   "cell_type": "code",
   "execution_count": 24,
   "metadata": {},
   "outputs": [
    {
     "name": "stdout",
     "output_type": "stream",
     "text": [
      "<class 'pandas.core.frame.DataFrame'>\n",
      "Index: 391 entries, 181 to 1036\n",
      "Data columns (total 32 columns):\n",
      " #   Column                       Non-Null Count  Dtype  \n",
      "---  ------                       --------------  -----  \n",
      " 0   Company                      391 non-null    object \n",
      " 1   Product                      391 non-null    object \n",
      " 2   Inches                       391 non-null    float64\n",
      " 3   ScreenResolution             391 non-null    object \n",
      " 4   Cpu                          391 non-null    object \n",
      " 5   Ram                          391 non-null    int32  \n",
      " 6   Memory                       391 non-null    object \n",
      " 7   Gpu                          391 non-null    object \n",
      " 8   OpSys                        391 non-null    object \n",
      " 9   Weight/kg                    391 non-null    float64\n",
      " 10  OpSys_Grouped                391 non-null    object \n",
      " 11  Company_Grouped              391 non-null    object \n",
      " 12  Pixeles_Total                391 non-null    int64  \n",
      " 13  IPS                          391 non-null    bool   \n",
      " 14  Touchscreen                  391 non-null    bool   \n",
      " 15  Total_Memory_GB              391 non-null    int64  \n",
      " 16  Memory_Type_Code             391 non-null    int64  \n",
      " 17  GPU_Marca                    391 non-null    object \n",
      " 18  CPU_Gama                     391 non-null    object \n",
      " 19  CPU_GHz                      391 non-null    float64\n",
      " 20  TypeName_2 in 1 Convertible  391 non-null    bool   \n",
      " 21  TypeName_Gaming              391 non-null    bool   \n",
      " 22  TypeName_Netbook             391 non-null    bool   \n",
      " 23  TypeName_Notebook            391 non-null    bool   \n",
      " 24  TypeName_Ultrabook           391 non-null    bool   \n",
      " 25  TypeName_Workstation         391 non-null    bool   \n",
      " 26  GPU_AMD                      391 non-null    bool   \n",
      " 27  GPU_Intel                    391 non-null    bool   \n",
      " 28  GPU_Nvidia                   391 non-null    bool   \n",
      " 29  GPU_Otro                     391 non-null    bool   \n",
      " 30  CPU_Alta                     391 non-null    bool   \n",
      " 31  CPU_Baja                     391 non-null    bool   \n",
      "dtypes: bool(14), float64(3), int32(1), int64(3), object(11)\n",
      "memory usage: 61.9+ KB\n"
     ]
    }
   ],
   "source": [
    "# Uno CPU_dummies con Encoded\n",
    "df_encoded_test_3 = pd.concat([df_encoded_test_2, cpu_gama_dummies], axis=1)\n",
    "df_encoded_test_3.info()"
   ]
  },
  {
   "cell_type": "code",
   "execution_count": 25,
   "metadata": {},
   "outputs": [
    {
     "name": "stdout",
     "output_type": "stream",
     "text": [
      "<class 'pandas.core.frame.DataFrame'>\n",
      "Index: 391 entries, 181 to 1036\n",
      "Data columns (total 61 columns):\n",
      " #   Column                       Non-Null Count  Dtype  \n",
      "---  ------                       --------------  -----  \n",
      " 0   Company                      391 non-null    object \n",
      " 1   Product                      391 non-null    object \n",
      " 2   Inches                       391 non-null    float64\n",
      " 3   ScreenResolution             391 non-null    object \n",
      " 4   Cpu                          391 non-null    object \n",
      " 5   Ram                          391 non-null    int32  \n",
      " 6   Memory                       391 non-null    object \n",
      " 7   Gpu                          391 non-null    object \n",
      " 8   OpSys                        391 non-null    object \n",
      " 9   Weight/kg                    391 non-null    float64\n",
      " 10  OpSys_Grouped                391 non-null    object \n",
      " 11  Company_Grouped              391 non-null    object \n",
      " 12  Pixeles_Total                391 non-null    int64  \n",
      " 13  IPS                          391 non-null    bool   \n",
      " 14  Touchscreen                  391 non-null    bool   \n",
      " 15  Total_Memory_GB              391 non-null    int64  \n",
      " 16  Memory_Type_Code             391 non-null    int64  \n",
      " 17  GPU_Marca                    391 non-null    object \n",
      " 18  CPU_Gama                     391 non-null    object \n",
      " 19  CPU_GHz                      391 non-null    float64\n",
      " 20  TypeName_2 in 1 Convertible  391 non-null    bool   \n",
      " 21  TypeName_Gaming              391 non-null    bool   \n",
      " 22  TypeName_Netbook             391 non-null    bool   \n",
      " 23  TypeName_Notebook            391 non-null    bool   \n",
      " 24  TypeName_Ultrabook           391 non-null    bool   \n",
      " 25  TypeName_Workstation         391 non-null    bool   \n",
      " 26  GPU_AMD                      391 non-null    bool   \n",
      " 27  GPU_Intel                    391 non-null    bool   \n",
      " 28  GPU_Nvidia                   391 non-null    bool   \n",
      " 29  GPU_Otro                     391 non-null    bool   \n",
      " 30  CPU_Alta                     391 non-null    bool   \n",
      " 31  CPU_Baja                     391 non-null    bool   \n",
      " 32  Company                      391 non-null    object \n",
      " 33  Product                      391 non-null    object \n",
      " 34  TypeName                     391 non-null    object \n",
      " 35  Inches                       391 non-null    float64\n",
      " 36  ScreenResolution             391 non-null    object \n",
      " 37  Cpu                          391 non-null    object \n",
      " 38  Ram                          391 non-null    int32  \n",
      " 39  Memory                       391 non-null    object \n",
      " 40  Gpu                          391 non-null    object \n",
      " 41  OpSys                        391 non-null    object \n",
      " 42  Weight/kg                    391 non-null    float64\n",
      " 43  OpSys_Grouped                391 non-null    object \n",
      " 44  Pixeles_Total                391 non-null    int64  \n",
      " 45  IPS                          391 non-null    bool   \n",
      " 46  Touchscreen                  391 non-null    bool   \n",
      " 47  Total_Memory_GB              391 non-null    int64  \n",
      " 48  Memory_Type_Code             391 non-null    int64  \n",
      " 49  GPU_Marca                    391 non-null    object \n",
      " 50  CPU_Gama                     391 non-null    object \n",
      " 51  CPU_GHz                      391 non-null    float64\n",
      " 52  Company_Grouped_Acer         391 non-null    bool   \n",
      " 53  Company_Grouped_Apple        391 non-null    bool   \n",
      " 54  Company_Grouped_Asus         391 non-null    bool   \n",
      " 55  Company_Grouped_Dell         391 non-null    bool   \n",
      " 56  Company_Grouped_HP           391 non-null    bool   \n",
      " 57  Company_Grouped_Lenovo       391 non-null    bool   \n",
      " 58  Company_Grouped_MSI          391 non-null    bool   \n",
      " 59  Company_Grouped_Otras        391 non-null    bool   \n",
      " 60  Company_Grouped_Toshiba      391 non-null    bool   \n",
      "dtypes: bool(25), float64(6), int32(2), int64(6), object(22)\n",
      "memory usage: 119.5+ KB\n"
     ]
    }
   ],
   "source": [
    "# Uno Dummies_os_company con Encoded\n",
    "df_encoded_test_4 = pd.concat([df_encoded_test_3, dummies_os_test], axis=1)\n",
    "df_encoded_test_4.info()"
   ]
  },
  {
   "cell_type": "code",
   "execution_count": 26,
   "metadata": {},
   "outputs": [
    {
     "name": "stdout",
     "output_type": "stream",
     "text": [
      "<class 'pandas.core.frame.DataFrame'>\n",
      "Index: 391 entries, 181 to 1036\n",
      "Data columns (total 90 columns):\n",
      " #   Column                       Non-Null Count  Dtype  \n",
      "---  ------                       --------------  -----  \n",
      " 0   Company                      391 non-null    object \n",
      " 1   Product                      391 non-null    object \n",
      " 2   Inches                       391 non-null    float64\n",
      " 3   ScreenResolution             391 non-null    object \n",
      " 4   Cpu                          391 non-null    object \n",
      " 5   Ram                          391 non-null    int32  \n",
      " 6   Memory                       391 non-null    object \n",
      " 7   Gpu                          391 non-null    object \n",
      " 8   OpSys                        391 non-null    object \n",
      " 9   Weight/kg                    391 non-null    float64\n",
      " 10  OpSys_Grouped                391 non-null    object \n",
      " 11  Company_Grouped              391 non-null    object \n",
      " 12  Pixeles_Total                391 non-null    int64  \n",
      " 13  IPS                          391 non-null    bool   \n",
      " 14  Touchscreen                  391 non-null    bool   \n",
      " 15  Total_Memory_GB              391 non-null    int64  \n",
      " 16  Memory_Type_Code             391 non-null    int64  \n",
      " 17  GPU_Marca                    391 non-null    object \n",
      " 18  CPU_Gama                     391 non-null    object \n",
      " 19  CPU_GHz                      391 non-null    float64\n",
      " 20  TypeName_2 in 1 Convertible  391 non-null    bool   \n",
      " 21  TypeName_Gaming              391 non-null    bool   \n",
      " 22  TypeName_Netbook             391 non-null    bool   \n",
      " 23  TypeName_Notebook            391 non-null    bool   \n",
      " 24  TypeName_Ultrabook           391 non-null    bool   \n",
      " 25  TypeName_Workstation         391 non-null    bool   \n",
      " 26  GPU_AMD                      391 non-null    bool   \n",
      " 27  GPU_Intel                    391 non-null    bool   \n",
      " 28  GPU_Nvidia                   391 non-null    bool   \n",
      " 29  GPU_Otro                     391 non-null    bool   \n",
      " 30  CPU_Alta                     391 non-null    bool   \n",
      " 31  CPU_Baja                     391 non-null    bool   \n",
      " 32  Company                      391 non-null    object \n",
      " 33  Product                      391 non-null    object \n",
      " 34  TypeName                     391 non-null    object \n",
      " 35  Inches                       391 non-null    float64\n",
      " 36  ScreenResolution             391 non-null    object \n",
      " 37  Cpu                          391 non-null    object \n",
      " 38  Ram                          391 non-null    int32  \n",
      " 39  Memory                       391 non-null    object \n",
      " 40  Gpu                          391 non-null    object \n",
      " 41  OpSys                        391 non-null    object \n",
      " 42  Weight/kg                    391 non-null    float64\n",
      " 43  OpSys_Grouped                391 non-null    object \n",
      " 44  Pixeles_Total                391 non-null    int64  \n",
      " 45  IPS                          391 non-null    bool   \n",
      " 46  Touchscreen                  391 non-null    bool   \n",
      " 47  Total_Memory_GB              391 non-null    int64  \n",
      " 48  Memory_Type_Code             391 non-null    int64  \n",
      " 49  GPU_Marca                    391 non-null    object \n",
      " 50  CPU_Gama                     391 non-null    object \n",
      " 51  CPU_GHz                      391 non-null    float64\n",
      " 52  Company_Grouped_Acer         391 non-null    bool   \n",
      " 53  Company_Grouped_Apple        391 non-null    bool   \n",
      " 54  Company_Grouped_Asus         391 non-null    bool   \n",
      " 55  Company_Grouped_Dell         391 non-null    bool   \n",
      " 56  Company_Grouped_HP           391 non-null    bool   \n",
      " 57  Company_Grouped_Lenovo       391 non-null    bool   \n",
      " 58  Company_Grouped_MSI          391 non-null    bool   \n",
      " 59  Company_Grouped_Otras        391 non-null    bool   \n",
      " 60  Company_Grouped_Toshiba      391 non-null    bool   \n",
      " 61  Company                      391 non-null    object \n",
      " 62  Product                      391 non-null    object \n",
      " 63  TypeName                     391 non-null    object \n",
      " 64  Inches                       391 non-null    float64\n",
      " 65  ScreenResolution             391 non-null    object \n",
      " 66  Cpu                          391 non-null    object \n",
      " 67  Ram                          391 non-null    int32  \n",
      " 68  Memory                       391 non-null    object \n",
      " 69  Gpu                          391 non-null    object \n",
      " 70  OpSys                        391 non-null    object \n",
      " 71  Weight/kg                    391 non-null    float64\n",
      " 72  OpSys_Grouped                391 non-null    object \n",
      " 73  Pixeles_Total                391 non-null    int64  \n",
      " 74  IPS                          391 non-null    bool   \n",
      " 75  Touchscreen                  391 non-null    bool   \n",
      " 76  Total_Memory_GB              391 non-null    int64  \n",
      " 77  Memory_Type_Code             391 non-null    int64  \n",
      " 78  GPU_Marca                    391 non-null    object \n",
      " 79  CPU_Gama                     391 non-null    object \n",
      " 80  CPU_GHz                      391 non-null    float64\n",
      " 81  Company_Grouped_Acer         391 non-null    bool   \n",
      " 82  Company_Grouped_Apple        391 non-null    bool   \n",
      " 83  Company_Grouped_Asus         391 non-null    bool   \n",
      " 84  Company_Grouped_Dell         391 non-null    bool   \n",
      " 85  Company_Grouped_HP           391 non-null    bool   \n",
      " 86  Company_Grouped_Lenovo       391 non-null    bool   \n",
      " 87  Company_Grouped_MSI          391 non-null    bool   \n",
      " 88  Company_Grouped_Otras        391 non-null    bool   \n",
      " 89  Company_Grouped_Toshiba      391 non-null    bool   \n",
      "dtypes: bool(36), float64(9), int32(3), int64(9), object(33)\n",
      "memory usage: 177.2+ KB\n"
     ]
    }
   ],
   "source": [
    "# Uno Dummies_os_company con Encoded\n",
    "df_encoded_test_5 = pd.concat([df_encoded_test_4, dummies_com_test], axis=1)\n",
    "df_encoded_test_5.info()"
   ]
  },
  {
   "cell_type": "code",
   "execution_count": 27,
   "metadata": {},
   "outputs": [],
   "source": [
    "# # Eliminar las columnas especificadas\n",
    "df_encoded_test_5.drop(['Company', 'Product', 'Cpu', 'Memory', 'Gpu', 'OpSys'], axis=1, inplace=True)\n",
    "# Eliminar las columnas especificadas\n",
    "df_encoded_test_5.drop(['OpSys_Grouped', 'Company_Grouped'], axis=1, inplace=True)\n",
    "df_encoded_test_5.drop(['GPU_Marca', 'CPU_Gama', 'ScreenResolution'], axis=1, inplace=True)"
   ]
  },
  {
   "cell_type": "code",
   "execution_count": 28,
   "metadata": {},
   "outputs": [
    {
     "name": "stdout",
     "output_type": "stream",
     "text": [
      "<class 'pandas.core.frame.DataFrame'>\n",
      "Index: 391 entries, 181 to 1036\n",
      "Data columns (total 59 columns):\n",
      " #   Column                       Non-Null Count  Dtype  \n",
      "---  ------                       --------------  -----  \n",
      " 0   Inches                       391 non-null    float64\n",
      " 1   Ram                          391 non-null    int32  \n",
      " 2   Weight/kg                    391 non-null    float64\n",
      " 3   Pixeles_Total                391 non-null    int64  \n",
      " 4   IPS                          391 non-null    bool   \n",
      " 5   Touchscreen                  391 non-null    bool   \n",
      " 6   Total_Memory_GB              391 non-null    int64  \n",
      " 7   Memory_Type_Code             391 non-null    int64  \n",
      " 8   CPU_GHz                      391 non-null    float64\n",
      " 9   TypeName_2 in 1 Convertible  391 non-null    bool   \n",
      " 10  TypeName_Gaming              391 non-null    bool   \n",
      " 11  TypeName_Netbook             391 non-null    bool   \n",
      " 12  TypeName_Notebook            391 non-null    bool   \n",
      " 13  TypeName_Ultrabook           391 non-null    bool   \n",
      " 14  TypeName_Workstation         391 non-null    bool   \n",
      " 15  GPU_AMD                      391 non-null    bool   \n",
      " 16  GPU_Intel                    391 non-null    bool   \n",
      " 17  GPU_Nvidia                   391 non-null    bool   \n",
      " 18  GPU_Otro                     391 non-null    bool   \n",
      " 19  CPU_Alta                     391 non-null    bool   \n",
      " 20  CPU_Baja                     391 non-null    bool   \n",
      " 21  TypeName                     391 non-null    object \n",
      " 22  Inches                       391 non-null    float64\n",
      " 23  Ram                          391 non-null    int32  \n",
      " 24  Weight/kg                    391 non-null    float64\n",
      " 25  Pixeles_Total                391 non-null    int64  \n",
      " 26  IPS                          391 non-null    bool   \n",
      " 27  Touchscreen                  391 non-null    bool   \n",
      " 28  Total_Memory_GB              391 non-null    int64  \n",
      " 29  Memory_Type_Code             391 non-null    int64  \n",
      " 30  CPU_GHz                      391 non-null    float64\n",
      " 31  Company_Grouped_Acer         391 non-null    bool   \n",
      " 32  Company_Grouped_Apple        391 non-null    bool   \n",
      " 33  Company_Grouped_Asus         391 non-null    bool   \n",
      " 34  Company_Grouped_Dell         391 non-null    bool   \n",
      " 35  Company_Grouped_HP           391 non-null    bool   \n",
      " 36  Company_Grouped_Lenovo       391 non-null    bool   \n",
      " 37  Company_Grouped_MSI          391 non-null    bool   \n",
      " 38  Company_Grouped_Otras        391 non-null    bool   \n",
      " 39  Company_Grouped_Toshiba      391 non-null    bool   \n",
      " 40  TypeName                     391 non-null    object \n",
      " 41  Inches                       391 non-null    float64\n",
      " 42  Ram                          391 non-null    int32  \n",
      " 43  Weight/kg                    391 non-null    float64\n",
      " 44  Pixeles_Total                391 non-null    int64  \n",
      " 45  IPS                          391 non-null    bool   \n",
      " 46  Touchscreen                  391 non-null    bool   \n",
      " 47  Total_Memory_GB              391 non-null    int64  \n",
      " 48  Memory_Type_Code             391 non-null    int64  \n",
      " 49  CPU_GHz                      391 non-null    float64\n",
      " 50  Company_Grouped_Acer         391 non-null    bool   \n",
      " 51  Company_Grouped_Apple        391 non-null    bool   \n",
      " 52  Company_Grouped_Asus         391 non-null    bool   \n",
      " 53  Company_Grouped_Dell         391 non-null    bool   \n",
      " 54  Company_Grouped_HP           391 non-null    bool   \n",
      " 55  Company_Grouped_Lenovo       391 non-null    bool   \n",
      " 56  Company_Grouped_MSI          391 non-null    bool   \n",
      " 57  Company_Grouped_Otras        391 non-null    bool   \n",
      " 58  Company_Grouped_Toshiba      391 non-null    bool   \n",
      "dtypes: bool(36), float64(9), int32(3), int64(9), object(2)\n",
      "memory usage: 82.5+ KB\n"
     ]
    }
   ],
   "source": [
    "df_encoded_test_5.info()"
   ]
  },
  {
   "cell_type": "markdown",
   "metadata": {},
   "source": [
    "## Train"
   ]
  },
  {
   "cell_type": "code",
   "execution_count": 29,
   "metadata": {},
   "outputs": [
    {
     "ename": "SyntaxError",
     "evalue": "invalid decimal literal (3672629820.py, line 4)",
     "output_type": "error",
     "traceback": [
      "\u001b[1;36m  Cell \u001b[1;32mIn[29], line 4\u001b[1;36m\u001b[0m\n\u001b[1;33m    1df_train['Ram'] = df_train['Ram'].str.replace('GB', '').astype(int)\u001b[0m\n\u001b[1;37m    ^\u001b[0m\n\u001b[1;31mSyntaxError\u001b[0m\u001b[1;31m:\u001b[0m invalid decimal literal\n"
     ]
    }
   ],
   "source": [
    "# Para este primer modelo voy a limpiar algunas columnas y cambiar su dtype\n",
    "\n",
    "#Primero ram\n",
    "1df_train['Ram'] = df_train['Ram'].str.replace('GB', '').astype(int)\n",
    "\n",
    "# Ahora voy a transformar Weight\n",
    "df_train['Weight'] = df_train['Weight'].str.replace('kg', '').astype(float)\n",
    "\n",
    "# Voy a renombar  Weight y le pondré Weigh/kg para que sea más descriptiva y se entienda que los valores numericos hacen referencia a su peso en kg\n",
    "\n",
    "df_train = df_train.rename(columns={'Weight': 'Weight/kg'})"
   ]
  },
  {
   "cell_type": "code",
   "execution_count": null,
   "metadata": {},
   "outputs": [],
   "source": [
    "# Me haré un segundo DF donde desecho las primeras dos columnas porque no las necesito para la predicción\n",
    "\n",
    "df2_train = df_train.drop(['laptop_ID'], axis=1)\n",
    "\n",
    "# Voy a ver si puedo sacarle provecho al typeName\n",
    "# df2 = df2.drop(['TypeName'], axis=1)"
   ]
  },
  {
   "cell_type": "code",
   "execution_count": null,
   "metadata": {},
   "outputs": [],
   "source": [
    "# Agrupo varias variables\n",
    "df2_train['OpSys_Grouped'] = df2_train['OpSys'].apply(group_os)\n",
    "df2_train['Company_Grouped'] = df2_train['Company'].apply(agrupar_marcas)\n",
    "\n",
    "# Extraigo y creo otras variables\n",
    "# Extraer los píxeles\n",
    "df2_train['Pixeles_Total'] = df2_train['ScreenResolution'].apply(extraer_pixeles)\n",
    "\n",
    "# Extraer características de la pantalla\n",
    "df2_train[['IPS', 'Touchscreen']] = df2_train['ScreenResolution'].apply(screen_featuring)\n",
    "\n",
    "# Extraer cantidad y codificar las memorias\n",
    "df2_train['Total_Memory_GB'] = df2_train['Memory'].apply(extraer_gb)\n",
    "df2_train['Memory_Type_Code'] = df2_train['Memory'].apply(codificar_tipo_memoria)\n",
    "\n",
    "# Asigno marca GPU\n",
    "df2_train['GPU_Marca'] = df2_train['Gpu'].apply(asignar_marca_gpu)\n",
    "\n",
    "# Clasificamos los CPU\n",
    "df2_train['CPU_Gama'] = df2_train['Cpu'].apply(clasificar_cpu)\n",
    "\n",
    "# Aplicar la función para extraer la velocidad de GHz\n",
    "df2_train['CPU_GHz'] = df2_train['Cpu'].apply(extraer_ghz)"
   ]
  },
  {
   "cell_type": "code",
   "execution_count": null,
   "metadata": {},
   "outputs": [],
   "source": [
    "dummies_os_com_train = pd.get_dummies(df2_train, columns=[\"OpSys_Grouped\", \"Company_Grouped\"])\n"
   ]
  },
  {
   "cell_type": "code",
   "execution_count": null,
   "metadata": {},
   "outputs": [],
   "source": [
    "#  Aplicar One-Hot Encoding a la variable TypeName, al ser tan pocos no hizo falta agruparlos primero\n",
    "df_encoded_train = pd.get_dummies(df2_train, columns=['TypeName'])\n",
    "\n",
    "df_encoded_train"
   ]
  },
  {
   "cell_type": "code",
   "execution_count": null,
   "metadata": {},
   "outputs": [],
   "source": [
    "# Creo dummies para CPU_Gama\n",
    "\n",
    "cpu_gama_dummies_train = pd.get_dummies(df2_train['CPU_Gama'], prefix='CPU')\n",
    "cpu_gama_dummies_train"
   ]
  },
  {
   "cell_type": "code",
   "execution_count": null,
   "metadata": {},
   "outputs": [],
   "source": [
    "# Creo dummies para GPU_Marca\n",
    "marca_gpu_dummies_train = pd.get_dummies(df2_train['GPU_Marca'], prefix='GPU')\n",
    "marca_gpu_dummies_train"
   ]
  },
  {
   "cell_type": "code",
   "execution_count": null,
   "metadata": {},
   "outputs": [],
   "source": [
    "# Uno GPU_dummies con encoded\n",
    "df_encoded_train_2 = pd.concat([df_encoded_train, marca_gpu_dummies_train], axis=1)\n",
    "df_encoded_train_2"
   ]
  },
  {
   "cell_type": "code",
   "execution_count": null,
   "metadata": {},
   "outputs": [],
   "source": [
    "# Uno CPU_dummies con Encoded\n",
    "df_encoded_train_3 = pd.concat([df_encoded_train_2, cpu_gama_dummies_train], axis=1)\n",
    "df_encoded_train_3"
   ]
  },
  {
   "cell_type": "code",
   "execution_count": null,
   "metadata": {},
   "outputs": [],
   "source": [
    "# Uno CPU_dummies con Encoded\n",
    "df_encoded_train_4 = pd.concat([df_encoded_train_3, dummies_os_com_train], axis=1)\n",
    "df_encoded_train_4\n"
   ]
  },
  {
   "cell_type": "code",
   "execution_count": null,
   "metadata": {},
   "outputs": [],
   "source": [
    "# Eliminar las columnas especificadas\n",
    "df_encoded_train_4.drop(['Company', 'Product', 'Cpu', 'Memory', 'Gpu', 'OpSys'], axis=1, inplace=True)\n",
    "df_encoded_train_4.drop(['OpSys_Grouped', 'Company_Grouped'], axis=1, inplace=True)\n",
    "df_encoded_train_4.drop(['GPU_Marca', 'CPU_Gama', 'ScreenResolution'], axis=1, inplace=True)"
   ]
  },
  {
   "cell_type": "code",
   "execution_count": null,
   "metadata": {},
   "outputs": [],
   "source": [
    "df_encoded_train_4.info()"
   ]
  },
  {
   "cell_type": "code",
   "execution_count": null,
   "metadata": {},
   "outputs": [],
   "source": [
    "df_encoded_test_3.info()"
   ]
  },
  {
   "cell_type": "code",
   "execution_count": null,
   "metadata": {},
   "outputs": [],
   "source": [
    "# m_corr = df_encoded_train_3.corr()"
   ]
  },
  {
   "cell_type": "code",
   "execution_count": null,
   "metadata": {},
   "outputs": [],
   "source": [
    "# m_corr.to_csv('corr.csv', index=False)"
   ]
  },
  {
   "cell_type": "code",
   "execution_count": null,
   "metadata": {},
   "outputs": [],
   "source": [
    "plt.figure(figsize=(15,15))\n",
    "sns.heatmap(m_corr, annot=True, fmt=\".2f\", annot_kws={'size': 10}, cmap='coolwarm');"
   ]
  },
  {
   "cell_type": "markdown",
   "metadata": {},
   "source": [
    "## Pasos que si o si debéis realizar para poder participar en la competición:"
   ]
  },
  {
   "cell_type": "markdown",
   "metadata": {},
   "source": [
    "### 1. Definir X e y"
   ]
  },
  {
   "cell_type": "code",
   "execution_count": null,
   "metadata": {},
   "outputs": [],
   "source": [
    "from sklearn.linear_model import LinearRegression\n",
    "from sklearn.metrics import mean_absolute_error"
   ]
  },
  {
   "cell_type": "code",
   "execution_count": null,
   "metadata": {},
   "outputs": [],
   "source": [
    "# X = df_encoded_train.drop(['Price_euros'], axis=1)\n",
    "# y = df_encoded_train['Price_euros']"
   ]
  },
  {
   "cell_type": "markdown",
   "metadata": {},
   "source": [
    "### 2. Dividir X_train, X_test, y_train, y_test"
   ]
  },
  {
   "cell_type": "code",
   "execution_count": null,
   "metadata": {},
   "outputs": [],
   "source": [
    "df_encoded_test_4.info()"
   ]
  },
  {
   "cell_type": "code",
   "execution_count": null,
   "metadata": {},
   "outputs": [],
   "source": [
    "X_train = df_encoded_train_4.drop(['Price_euros'], axis=1)\n",
    "X_test = df_encoded_test_4.drop(['GPU_Otro'], axis=1)\n",
    "y_train = df_encoded_train_3['Price_euros']\n",
    "y_test = sample['Price_euros']"
   ]
  },
  {
   "cell_type": "code",
   "execution_count": null,
   "metadata": {},
   "outputs": [],
   "source": [
    "print (X_train.shape)\n",
    "print (X_test.shape)\n",
    "print (y_train.shape)\n",
    "print (y_test.shape)"
   ]
  },
  {
   "cell_type": "markdown",
   "metadata": {},
   "source": [
    "### 3. Crear y entrenar el modelo\n"
   ]
  },
  {
   "cell_type": "code",
   "execution_count": null,
   "metadata": {},
   "outputs": [],
   "source": [
    "#creating LinearRegression Object\n",
    "lm = LinearRegression()\n",
    "#Training the Data Model\n",
    "lm.fit(X_train, y_train)"
   ]
  },
  {
   "cell_type": "code",
   "execution_count": null,
   "metadata": {},
   "outputs": [],
   "source": [
    "# Hago mis predicciones\n",
    "predictions = lm.predict(X_test)"
   ]
  },
  {
   "cell_type": "code",
   "execution_count": null,
   "metadata": {},
   "outputs": [],
   "source": [
    "predictions"
   ]
  },
  {
   "cell_type": "code",
   "execution_count": null,
   "metadata": {},
   "outputs": [],
   "source": [
    "from sklearn import metrics\n",
    "\n",
    "lm.score(X_test, y_test)"
   ]
  },
  {
   "cell_type": "code",
   "execution_count": null,
   "metadata": {},
   "outputs": [],
   "source": [
    "print('MAE:', metrics.mean_absolute_error(y_test, predictions))"
   ]
  },
  {
   "cell_type": "code",
   "execution_count": null,
   "metadata": {},
   "outputs": [],
   "source": [
    "# from sklearn.metrics import mean_absolute_error\n",
    "\n",
    "# # Ahora voy a escalar a ver si me da mejores resultados\n",
    "\n",
    "# # Ahora voy a escalarlo\n",
    "# from sklearn.preprocessing import StandardScaler\n",
    "\n",
    "# # Inicializar el escalador\n",
    "# scaler = StandardScaler()\n",
    "\n",
    "# # Ajustar el escalador con los datos de entrenamiento y transformarlos\n",
    "# X_train_scaled = scaler.fit_transform(X_train)\n",
    "# X_test_scaled = scaler.transform(X_test)\n",
    "\n",
    "# # Crear y entrenar el modelo de regresión lineal\n",
    "# lm_scaled = LinearRegression()\n",
    "# lm_scaled.fit(X_train_scaled, y_train)\n",
    "# # Hacer predicciones con los datos de prueba escalados\n",
    "# predictions_scaled = lm_scaled.predict(X_test_scaled)\n",
    "\n",
    "# # Evaluar el modelo\n",
    "# print('MAE:', mean_absolute_error(y_test, predictions_scaled))\n",
    "\n",
    "# score_scaled = lm_scaled.score(X_test_scaled, y_test)\n",
    "# print(\"Coeficiente de determinación (R^2) en datos escalados:\", round(score_scaled), 2)"
   ]
  },
  {
   "cell_type": "code",
   "execution_count": null,
   "metadata": {},
   "outputs": [],
   "source": [
    "from sklearn.preprocessing import StandardScaler\n",
    "from sklearn.linear_model import LinearRegression\n",
    "from sklearn.metrics import mean_absolute_error\n",
    "\n",
    "# Inicializar el escalador\n",
    "scaler = StandardScaler()\n",
    "\n",
    "# Escalar solo las variables numéricas continuas, no las dummies\n",
    "# Identifica las columnas que necesitas escalar\n",
    "columnas_para_escalar = [ 'Ram', 'Weight/kg', 'Pixeles_Total', \"Total_Memory_GB\", \"CPU_GHz\"]\n",
    "\n",
    "# Escalar solo esas columnas\n",
    "X_train_scaled = X_train.copy()\n",
    "X_test_scaled = X_test.copy()\n",
    "\n",
    "X_train_scaled[columnas_para_escalar] = scaler.fit_transform(X_train[columnas_para_escalar])\n",
    "X_test_scaled[columnas_para_escalar] = scaler.transform(X_test[columnas_para_escalar])\n",
    "\n",
    "# Entrenar el modelo\n",
    "lm_scaled = LinearRegression()\n",
    "lm_scaled.fit(X_train_scaled, y_train)\n",
    "\n",
    "# Evaluar el modelo\n",
    "predictions_scaled = lm_scaled.predict(X_test_scaled)\n",
    "print('MAE:', mean_absolute_error(y_test, predictions_scaled))\n",
    "score_scaled = lm_scaled.score(X_test_scaled, y_test)\n",
    "print(\"Coeficiente de determinación (R^2) en datos escalados:\", score_scaled)\n"
   ]
  },
  {
   "cell_type": "code",
   "execution_count": null,
   "metadata": {},
   "outputs": [],
   "source": [
    "from sklearn.model_selection import cross_val_score, KFold\n",
    "from sklearn.preprocessing import PolynomialFeatures\n",
    "from sklearn.linear_model import LinearRegression, Ridge, Lasso\n",
    "from sklearn.model_selection import GridSearchCV\n",
    "\n",
    "n_alphas = 100\n",
    "poly = PolynomialFeatures(degree=2)\n",
    "poly.fit(X_train_scaled)\n",
    "\n",
    "X_poly_train = poly.transform(X_train_scaled)\n",
    "X_poly_test = poly.transform(X_test_scaled)\n",
    "\n",
    "pol_reg_reg_1 = Ridge()\n",
    "\n",
    "parameters = {'alpha':np.logspace(-5, 1, n_alphas)}\n",
    "\n",
    "gs = GridSearchCV(pol_reg_reg_1, parameters, scoring=\"neg_mean_absolute_error\", cv=10)\n",
    "\n",
    "gs.fit(X_poly_train, y_train)"
   ]
  },
  {
   "cell_type": "code",
   "execution_count": null,
   "metadata": {},
   "outputs": [],
   "source": [
    "gs.best_estimator_"
   ]
  },
  {
   "cell_type": "code",
   "execution_count": null,
   "metadata": {},
   "outputs": [],
   "source": [
    "gs.best_score_"
   ]
  },
  {
   "cell_type": "code",
   "execution_count": null,
   "metadata": {},
   "outputs": [],
   "source": [
    "gs.best_params_"
   ]
  },
  {
   "cell_type": "code",
   "execution_count": null,
   "metadata": {},
   "outputs": [],
   "source": [
    "poly = PolynomialFeatures(degree=2)\n",
    "poly.fit(X_train_scaled)\n",
    "X_poly_train = poly.transform(X_train_scaled)\n",
    "X_poly_test = poly.transform(X_test_scaled)\n",
    "\n",
    "pol_reg_reg_2 = Ridge(alpha=gs.best_params_['alpha'])\n",
    "pol_reg_reg_2.fit(X_poly_train, y_train)\n",
    "\n",
    "y_pred = pol_reg_reg_2.predict(X_poly_test)\n",
    "\n",
    "print(\"MAE test\", mean_absolute_error(y_test, y_pred))"
   ]
  },
  {
   "cell_type": "code",
   "execution_count": null,
   "metadata": {},
   "outputs": [],
   "source": [
    "# # Definir el grado del polinomio\n",
    "# poly = PolynomialFeatures(degree=2)\n",
    "# poly.fit(X_train_scaled)\n",
    "\n",
    "# # Transformar los datos\n",
    "# X_poly_train = poly.transform(X_train_scaled)\n",
    "# X_poly_test = poly.transform(X_test_scaled)\n",
    "\n",
    "# # Definir el modelo Lasso\n",
    "# lasso_reg = Lasso(max_iter=1000)\n",
    "\n",
    "# # Definir el rango de alphas a explorar\n",
    "# parameters = {'alpha': np.logspace(-4, -0.5, 100)}\n",
    "\n",
    "# # Configurar GridSearchCV\n",
    "# gs = GridSearchCV(lasso_reg, parameters, scoring=\"neg_mean_absolute_error\", cv=10)\n",
    "\n",
    "# # Ajustar GridSearchCV\n",
    "# gs.fit(X_poly_train, y_train)\n",
    "\n",
    "# # Mejor estimador y su score\n",
    "# print(\"Mejor alpha:\", gs.best_params_)\n",
    "# print(\"Mejor score MAE:\", -gs.best_score_)\n",
    "\n",
    "# # Entrenar el modelo Lasso con el mejor alpha\n",
    "# lasso_best = Lasso(alpha=gs.best_params_['alpha'])\n",
    "# lasso_best.fit(X_poly_train, y_train)\n",
    "\n",
    "# # Predicciones y evaluación\n",
    "# y_pred_lasso = lasso_best.predict(X_poly_test)\n",
    "\n",
    "# # Error Absoluto Medio (MAE)\n",
    "# print(\"MAE test (Lasso)\", mean_absolute_error(y_test, y_pred_lasso))"
   ]
  },
  {
   "cell_type": "code",
   "execution_count": null,
   "metadata": {},
   "outputs": [],
   "source": [
    "from sklearn.model_selection import GridSearchCV\n",
    "from sklearn.linear_model import ElasticNet\n",
    "from sklearn.preprocessing import PolynomialFeatures\n",
    "from sklearn.metrics import mean_absolute_error\n",
    "import numpy as np\n",
    "\n",
    "\n",
    "# Definir el grado del polinomio\n",
    "poly = PolynomialFeatures(degree=2)\n",
    "poly.fit(X_train_scaled)\n",
    "\n",
    "# Transformar los datos\n",
    "X_poly_train = poly.transform(X_train_scaled)\n",
    "X_poly_test = poly.transform(X_test_scaled)\n",
    "\n",
    "# Definir el modelo ElasticNet\n",
    "elastic_net_reg = ElasticNet(max_iter=10000)\n",
    "\n",
    "# Definir el rango de alphas y l1_ratios a explorar\n",
    "parameters = {\n",
    "    'alpha': np.logspace(-4, -0.5, 100),\n",
    "    'l1_ratio': np.linspace(0.01, 1, 25)\n",
    "}\n",
    "\n",
    "# Configurar GridSearchCV\n",
    "gs = GridSearchCV(elastic_net_reg, parameters, scoring=\"neg_mean_absolute_error\", cv=10)\n",
    "\n",
    "# Ajustar GridSearchCV\n",
    "gs.fit(X_poly_train, y_train)\n",
    "\n",
    "# Mejor estimador y su score\n",
    "print(\"Mejor alpha y l1_ratio:\", gs.best_params_)\n",
    "print(\"Mejor score MAE:\", -gs.best_score_)\n",
    "\n",
    "# Entrenar el modelo ElasticNet con los mejores parámetros\n",
    "elastic_net_best = ElasticNet(alpha=gs.best_params_['alpha'], l1_ratio=gs.best_params_['l1_ratio'], max_iter=1000)\n",
    "elastic_net_best.fit(X_poly_train, y_train)\n",
    "\n",
    "# Predicciones y evaluación\n",
    "y_pred_elastic_net = elastic_net_best.predict(X_poly_test)\n",
    "\n",
    "# Error Absoluto Medio (MAE)\n",
    "print(\"MAE test (ElasticNet)\", mean_absolute_error(y_test, y_pred_elastic_net))\n"
   ]
  },
  {
   "cell_type": "code",
   "execution_count": null,
   "metadata": {},
   "outputs": [],
   "source": [
    "dicccionario ={'id':df_encoded_test.index,\"Price_euros\": y_pred}"
   ]
  },
  {
   "cell_type": "code",
   "execution_count": null,
   "metadata": {},
   "outputs": [],
   "source": [
    "df_predi = pd.DataFrame(dicccionario)\n",
    "df_predi"
   ]
  },
  {
   "cell_type": "markdown",
   "metadata": {},
   "source": [
    "### 5. Pásale el CHEQUEATOR para comprobar que efectivamente está listo para subir a Kaggle."
   ]
  },
  {
   "cell_type": "code",
   "execution_count": null,
   "metadata": {},
   "outputs": [],
   "source": [
    "def chequeator(df_to_submit):\n",
    "    \"\"\"\n",
    "    Esta función se asegura de que tu submission tenga la forma requerida por Kaggle.\n",
    "    \n",
    "    Si es así, se guardará el dataframe en un `csv` y estará listo para subir a Kaggle.\n",
    "    \n",
    "    Si no, LEE EL MENSAJE Y HAZLE CASO.\n",
    "    \n",
    "    Si aún no:\n",
    "    - apaga tu ordenador, \n",
    "    - date una vuelta, \n",
    "    - enciendelo otra vez, \n",
    "    - abre este notebook y \n",
    "    - leelo todo de nuevo. \n",
    "    Todos nos merecemos una segunda oportunidad. También tú.\n",
    "    \"\"\"\n",
    "    if df_to_submit.shape == sample.shape:\n",
    "        if df_to_submit.columns.all() == sample.columns.all():\n",
    "            if df_to_submit.id.all() == sample.id.all():\n",
    "                print(\"You're ready to submit!\")\n",
    "                df_to_submit.to_csv(\"submission.csv\", index = False) #muy importante el index = False\n",
    "                urllib.request.urlretrieve(\"https://i.kym-cdn.com/photos/images/facebook/000/747/556/27a.jpg\", \"gfg.png\")     \n",
    "                img = Image.open(\"gfg.png\")\n",
    "                img.show()   \n",
    "            else:\n",
    "                print(\"Check the ids and try again\")\n",
    "        else:\n",
    "            print(\"Check the names of the columns and try again\")\n",
    "    else:\n",
    "        print(\"Check the number of rows and/or columns and try again\")\n",
    "        print(\"\\nMensaje secreto de Clara: No me puedo creer que después de todo este notebook hayas hecho algún cambio en las filas de `diamonds_test.csv`. Lloro.\")\n"
   ]
  },
  {
   "cell_type": "code",
   "execution_count": null,
   "metadata": {},
   "outputs": [],
   "source": [
    "df_predi.to_csv('poly_2.csv', index=False)"
   ]
  },
  {
   "cell_type": "code",
   "execution_count": null,
   "metadata": {},
   "outputs": [],
   "source": []
  }
 ],
 "metadata": {
  "kernelspec": {
   "display_name": "Python 3.7.4 64-bit",
   "language": "python",
   "name": "python3"
  },
  "language_info": {
   "codemirror_mode": {
    "name": "ipython",
    "version": 3
   },
   "file_extension": ".py",
   "mimetype": "text/x-python",
   "name": "python",
   "nbconvert_exporter": "python",
   "pygments_lexer": "ipython3",
   "version": "3.11.4"
  },
  "vscode": {
   "interpreter": {
    "hash": "c0e4a4af33acb5d51fe8962d9e2e7588108ae49a894b6d1e35c2101e79360239"
   }
  }
 },
 "nbformat": 4,
 "nbformat_minor": 4
}
